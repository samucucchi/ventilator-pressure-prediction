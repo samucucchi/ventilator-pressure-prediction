{
 "cells": [
  {
   "cell_type": "code",
   "execution_count": 1,
   "id": "afraid-gazette",
   "metadata": {},
   "outputs": [],
   "source": [
    "import pyspark as spark\n",
    "from pyspark import SparkContext\n",
    "# initialize a new Spark Context to use for the execution of the script\n",
    "sc = SparkContext(appName=\"MY-APP-NAME\", master=\"local[*]\")\n",
    "# prevent useless logging messages\n",
    "sc.setLogLevel(\"ERROR\")"
   ]
  },
  {
   "cell_type": "code",
   "execution_count": 2,
   "id": "animal-campaign",
   "metadata": {},
   "outputs": [],
   "source": [
    "from pyspark.sql import SparkSession\n",
    "from pyspark.sql.types import StructType, StructField, FloatType, IntegerType\n",
    "from pyspark.ml import Pipeline\n",
    "from pyspark.ml.regression import DecisionTreeRegressor, LinearRegression\n",
    "from pyspark.ml.classification import LogisticRegression\n",
    "from pyspark.ml.feature import VectorAssembler, StandardScaler\n",
    "from pyspark.ml.evaluation import RegressionEvaluator, MulticlassClassificationEvaluator, BinaryClassificationEvaluator\n",
    "from pyspark.ml.classification import FMClassifier\n",
    "import numpy as np\n",
    "from pyspark.mllib.clustering import KMeans\n",
    "import matplotlib.pyplot as plt\n",
    "from pyspark.sql.functions import col\n",
    "from pyspark.ml.tuning import ParamGridBuilder, TrainValidationSplit\n",
    "import matplotlib.pyplot as plt\n",
    "\n",
    "spark = SparkSession.builder \\\n",
    "    .master(\"local\") \\\n",
    "    .appName(\"appName\") \\\n",
    "    .getOrCreate()"
   ]
  },
  {
   "cell_type": "code",
   "execution_count": 3,
   "id": "french-fellow",
   "metadata": {},
   "outputs": [],
   "source": [
    "def performance_metrics(predicted_values):\n",
    "    evaluator = RegressionEvaluator(labelCol=\"label\", predictionCol=\"prediction\", metricName=\"rmse\")\n",
    "\n",
    "    #Root Mean Square Error\n",
    "    rmse = evaluator.evaluate(predicted_values)\n",
    "    print(\"RMSE: %.3f\" % rmse)\n",
    "\n",
    "    # Mean Square Error\n",
    "    mse = evaluator.evaluate(predicted_values, {evaluator.metricName: \"mse\"})\n",
    "    print(\"MSE: %.3f\" % mse)\n",
    "\n",
    "    # Mean Absolute Error\n",
    "    mae = evaluator.evaluate(predicted_values, {evaluator.metricName: \"mae\"})\n",
    "    print(\"MAE: %.3f\" % mae)\n",
    "\n",
    "    # r2 - coefficient of determination\n",
    "    r2 = evaluator.evaluate(predicted_values, {evaluator.metricName: \"r2\"})\n",
    "    print(\"r2: %.3f\" %r2)"
   ]
  },
  {
   "cell_type": "code",
   "execution_count": 4,
   "id": "manufactured-address",
   "metadata": {},
   "outputs": [
    {
     "name": "stdout",
     "output_type": "stream",
     "text": [
      "+----------+---+---+-------------------+------------------+------------------+------------------+------------------+------------------+\n",
      "|breath_ids|  R|  C|             m_u_in|            q_u_in|           m_u_out|           q_u_out|        m_pressure|        q_pressure|\n",
      "+----------+---+---+-------------------+------------------+------------------+------------------+------------------+------------------+\n",
      "|       148| 50| 10| -0.627586555937512| 3.279187855644647| 3.583992459539968|-4.387057482814503| 1.712044550044049| 4.787830588906654|\n",
      "|       463| 50| 10| -2.730341695467989|11.496348651324867|3.5980943797891185|-4.875283862177274| 5.452311677836793|14.032851614737082|\n",
      "|       471| 20| 20|-1.1012242363556006|10.255015772333854| 3.589597364806948|-4.547209213742605|2.9888939958281715|  7.08478856513968|\n",
      "|       496| 20| 20| -17.10135369945869| 54.39589825365896|3.5900412844154244| -4.54881661950235| 2.781362935991756| 18.63630522318597|\n",
      "|      1238| 50| 50| -4.046307639606464|34.687972375171306|3.5981683352545537|-4.872868892058087|  1.09470120183871| 27.02842709123733|\n",
      "+----------+---+---+-------------------+------------------+------------------+------------------+------------------+------------------+\n",
      "only showing top 5 rows\n",
      "\n"
     ]
    }
   ],
   "source": [
    "data = spark.read.options(header='true', inferschema='true', delimiter=',').csv(\"data/df.csv\")\n",
    "data.show(5)"
   ]
  },
  {
   "cell_type": "markdown",
   "id": "comprehensive-facing",
   "metadata": {},
   "source": [
    "# Regression #1 \n",
    "## Regress m and q parameters for the pressure attribute indepentently"
   ]
  },
  {
   "cell_type": "markdown",
   "id": "false-paintball",
   "metadata": {},
   "source": [
    "## Regression m_pressure\n"
   ]
  },
  {
   "cell_type": "code",
   "execution_count": 5,
   "id": "capable-emergency",
   "metadata": {},
   "outputs": [],
   "source": [
    "features = ['breath_ids', 'R', 'C', 'm_u_in', 'q_u_in', 'm_u_out', 'q_u_out']\n",
    "lr_data = data.select(col('m_pressure').alias(\"label\"), *features)"
   ]
  },
  {
   "cell_type": "code",
   "execution_count": 6,
   "id": "aggregate-fountain",
   "metadata": {},
   "outputs": [],
   "source": [
    "lr_data = lr_data.select([col(c).cast(\"double\").alias(c) for c in lr_data.columns])"
   ]
  },
  {
   "cell_type": "code",
   "execution_count": 7,
   "id": "becoming-oxygen",
   "metadata": {},
   "outputs": [
    {
     "name": "stdout",
     "output_type": "stream",
     "text": [
      "We have 13702 training examples and 3534 test examples.\n"
     ]
    }
   ],
   "source": [
    "train, test = lr_data.randomSplit([0.8, 0.2],seed=69)\n",
    "print(\"We have %d training examples and %d test examples.\" % (train.count(), test.count()))"
   ]
  },
  {
   "cell_type": "code",
   "execution_count": 8,
   "id": "convertible-cleveland",
   "metadata": {},
   "outputs": [],
   "source": [
    "from pyspark.ml.feature import VectorAssembler\n",
    "for_prediction = features.copy()\n",
    "for_prediction.remove('breath_ids')\n",
    "vectorAssembler = VectorAssembler(inputCols=for_prediction, outputCol=\"unscaled_features\")\n",
    "standardScaler = StandardScaler(inputCol=\"unscaled_features\", outputCol=\"features\")"
   ]
  },
  {
   "cell_type": "code",
   "execution_count": 9,
   "id": "spoken-training",
   "metadata": {},
   "outputs": [],
   "source": [
    "from pyspark.ml.regression import GBTRegressor\n",
    "gbt = GBTRegressor(labelCol=\"label\")"
   ]
  },
  {
   "cell_type": "code",
   "execution_count": 10,
   "id": "younger-military",
   "metadata": {},
   "outputs": [],
   "source": [
    "from pyspark.ml.tuning import CrossValidator, ParamGridBuilder\n",
    "from pyspark.ml.evaluation import RegressionEvaluator\n",
    "\n",
    "paramGrid = ParamGridBuilder()\\\n",
    ".addGrid(gbt.maxBins, (2, 10))\\\n",
    ".addGrid(gbt.maxDepth, list(np.arange(2, 28, 2)))\\\n",
    ".addGrid(gbt.maxIter, (2, 50))\\\n",
    ".build()\n",
    "\n",
    "evaluator = RegressionEvaluator(metricName=\"rmse\", labelCol=gbt.getLabelCol(), predictionCol=gbt.getPredictionCol())\n",
    "tvs = TrainValidationSplit(estimator=gbt,\n",
    "                           estimatorParamMaps=paramGrid,\n",
    "                           evaluator=RegressionEvaluator(labelCol=\"label\", predictionCol=\"prediction\", metricName=\"r2\"), \n",
    "                           trainRatio=0.8)"
   ]
  },
  {
   "cell_type": "code",
   "execution_count": 11,
   "id": "dutch-korean",
   "metadata": {},
   "outputs": [],
   "source": [
    "from pyspark.ml import Pipeline\n",
    "pipeline = Pipeline(stages=[vectorAssembler, standardScaler, tvs])"
   ]
  },
  {
   "cell_type": "code",
   "execution_count": 12,
   "id": "intermediate-helping",
   "metadata": {},
   "outputs": [],
   "source": [
    "model = pipeline.fit(train)"
   ]
  },
  {
   "cell_type": "code",
   "execution_count": 13,
   "id": "swedish-pilot",
   "metadata": {},
   "outputs": [],
   "source": [
    "predictions = model.transform(test)"
   ]
  },
  {
   "cell_type": "code",
   "execution_count": 16,
   "id": "competitive-greeting",
   "metadata": {},
   "outputs": [
    {
     "name": "stdout",
     "output_type": "stream",
     "text": [
      "RMSE: 1.339\n",
      "MSE: 1.794\n",
      "MAE: 0.984\n",
      "r2: 0.747\n"
     ]
    }
   ],
   "source": [
    "performance_metrics(predictions)"
   ]
  },
  {
   "cell_type": "markdown",
   "id": "appointed-source",
   "metadata": {},
   "source": [
    "### Get predicted m to the original dataset"
   ]
  },
  {
   "cell_type": "code",
   "execution_count": 17,
   "id": "meaning-suffering",
   "metadata": {},
   "outputs": [],
   "source": [
    "m_pressure = model.transform(lr_data)\n",
    "m_press_predicted = m_pressure.select([col(\"breath_ids\").alias(\"b_id\"), 'prediction'])"
   ]
  },
  {
   "cell_type": "markdown",
   "id": "duplicate-opening",
   "metadata": {},
   "source": [
    "## Regression for q_pressure"
   ]
  },
  {
   "cell_type": "code",
   "execution_count": 18,
   "id": "hairy-perspective",
   "metadata": {},
   "outputs": [],
   "source": [
    "lr_data = data.select(col('q_pressure').alias(\"label\"), *features)"
   ]
  },
  {
   "cell_type": "code",
   "execution_count": 19,
   "id": "realistic-cabin",
   "metadata": {},
   "outputs": [],
   "source": [
    "train, test = lr_data.randomSplit([0.8, 0.2], seed=69)"
   ]
  },
  {
   "cell_type": "code",
   "execution_count": 20,
   "id": "legendary-mention",
   "metadata": {},
   "outputs": [],
   "source": [
    "vectorAssembler = VectorAssembler(inputCols=for_prediction, outputCol=\"unscaled_features\")\n",
    "standardScaler = StandardScaler(inputCol=\"unscaled_features\", outputCol=\"features\")\n",
    "pipeline = Pipeline(stages=[vectorAssembler, standardScaler, tvs])"
   ]
  },
  {
   "cell_type": "markdown",
   "id": "supreme-bristol",
   "metadata": {},
   "source": [
    "### Test performances on q_pressure"
   ]
  },
  {
   "cell_type": "code",
   "execution_count": 21,
   "id": "established-adams",
   "metadata": {},
   "outputs": [],
   "source": [
    "pipelineModel = pipeline.fit(train)"
   ]
  },
  {
   "cell_type": "code",
   "execution_count": 22,
   "id": "cubic-bradley",
   "metadata": {},
   "outputs": [],
   "source": [
    "predictions = pipelineModel.transform(test)"
   ]
  },
  {
   "cell_type": "code",
   "execution_count": 23,
   "id": "closed-visibility",
   "metadata": {},
   "outputs": [
    {
     "name": "stdout",
     "output_type": "stream",
     "text": [
      "RMSE: 1.480\n",
      "MSE: 2.189\n",
      "MAE: 1.043\n",
      "r2: 0.944\n"
     ]
    }
   ],
   "source": [
    "performance_metrics(predictions)"
   ]
  },
  {
   "cell_type": "markdown",
   "id": "efficient-aruba",
   "metadata": {},
   "source": [
    "### Get predicted q to the original dataset "
   ]
  },
  {
   "cell_type": "code",
   "execution_count": 24,
   "id": "intended-length",
   "metadata": {},
   "outputs": [],
   "source": [
    "q_pressure = pipelineModel.transform(lr_data)\n",
    "q_press_predicted = q_pressure.select([col(\"breath_ids\").alias(\"b_id\"), 'prediction'])"
   ]
  },
  {
   "cell_type": "markdown",
   "id": "subject-nancy",
   "metadata": {},
   "source": [
    "# Output from the first regression technique"
   ]
  },
  {
   "cell_type": "code",
   "execution_count": 25,
   "id": "virtual-maryland",
   "metadata": {},
   "outputs": [
    {
     "name": "stdout",
     "output_type": "stream",
     "text": [
      "+----------+---+---+-------------------+------------------+------------------+------------------+------------------+------------------+\n",
      "|breath_ids|  R|  C|             m_u_in|            q_u_in|           m_u_out|           q_u_out|        m_pressure|        q_pressure|\n",
      "+----------+---+---+-------------------+------------------+------------------+------------------+------------------+------------------+\n",
      "|       148| 50| 10| -0.627586555937512| 3.279187855644647| 3.583992459539968|-4.387057482814503|3.0137361594490844| 5.702867519125647|\n",
      "|       463| 50| 10| -2.730341695467989|11.496348651324867|3.5980943797891185|-4.875283862177274| 5.616595676139938|14.964707095430349|\n",
      "|       471| 20| 20|-1.1012242363556006|10.255015772333854| 3.589597364806948|-4.547209213742605|2.6657098188435597| 8.284327979404408|\n",
      "|       496| 20| 20| -17.10135369945869| 54.39589825365896|3.5900412844154244| -4.54881661950235| 4.528314059710676|20.582469248426573|\n",
      "|      1238| 50| 50| -4.046307639606464|34.687972375171306|3.5981683352545537|-4.872868892058087|1.8439833579824747| 24.11138388348266|\n",
      "+----------+---+---+-------------------+------------------+------------------+------------------+------------------+------------------+\n",
      "only showing top 5 rows\n",
      "\n"
     ]
    }
   ],
   "source": [
    "df_regressed_1 = data.select(features)\n",
    "df_regressed_1 = df_regressed_1.join(m_press_predicted, m_press_predicted.b_id == df_regressed_1.breath_ids).select(*df_regressed_1.columns, col('prediction').alias('m_pressure'))\n",
    "df_regressed_1 = df_regressed_1.join(q_press_predicted, q_press_predicted.b_id == df_regressed_1.breath_ids).select(*df_regressed_1.columns, col('prediction').alias('q_pressure'))\n",
    "df_regressed_1.show(5)"
   ]
  },
  {
   "cell_type": "markdown",
   "id": "valid-emphasis",
   "metadata": {},
   "source": [
    "# Regression #2\n",
    "### 1. Regress the m parameter for pressure\n",
    "### 2. Include the predicted value of m in the training set when predicting the q"
   ]
  },
  {
   "cell_type": "code",
   "execution_count": 26,
   "id": "serious-facial",
   "metadata": {},
   "outputs": [
    {
     "name": "stdout",
     "output_type": "stream",
     "text": [
      "+----------+---+---+-------------------+------------------+------------------+------------------+------------------+\n",
      "|breath_ids|  R|  C|             m_u_in|            q_u_in|           m_u_out|           q_u_out|        m_pressure|\n",
      "+----------+---+---+-------------------+------------------+------------------+------------------+------------------+\n",
      "|       148| 50| 10| -0.627586555937512| 3.279187855644647| 3.583992459539968|-4.387057482814503|3.0137361594490844|\n",
      "|       463| 50| 10| -2.730341695467989|11.496348651324867|3.5980943797891185|-4.875283862177274| 5.616595676139938|\n",
      "|       471| 20| 20|-1.1012242363556006|10.255015772333854| 3.589597364806948|-4.547209213742605|2.6657098188435597|\n",
      "|       496| 20| 20| -17.10135369945869| 54.39589825365896|3.5900412844154244| -4.54881661950235| 4.528314059710676|\n",
      "|      1238| 50| 50| -4.046307639606464|34.687972375171306|3.5981683352545537|-4.872868892058087|1.8439833579824747|\n",
      "+----------+---+---+-------------------+------------------+------------------+------------------+------------------+\n",
      "only showing top 5 rows\n",
      "\n"
     ]
    }
   ],
   "source": [
    "# Append to the original dataset the m_pressure field calculated from the step before\n",
    "df_m = data.select(features)\n",
    "df_m = data.join(m_press_predicted, m_press_predicted.b_id == df_m.breath_ids).select(*df_m.columns, col('prediction').alias('m_pressure'))\n",
    "df_m.show(5)"
   ]
  },
  {
   "cell_type": "code",
   "execution_count": 27,
   "id": "amazing-offering",
   "metadata": {},
   "outputs": [
    {
     "name": "stdout",
     "output_type": "stream",
     "text": [
      "+----------+---+---+-------------------+------------------+------------------+------------------+------------------+------------------+\n",
      "|breath_ids|  R|  C|             m_u_in|            q_u_in|           m_u_out|           q_u_out|        m_pressure|             label|\n",
      "+----------+---+---+-------------------+------------------+------------------+------------------+------------------+------------------+\n",
      "|       148| 50| 10| -0.627586555937512| 3.279187855644647| 3.583992459539968|-4.387057482814503|3.0137361594490844| 4.787830588906654|\n",
      "|       463| 50| 10| -2.730341695467989|11.496348651324867|3.5980943797891185|-4.875283862177274| 5.616595676139938|14.032851614737082|\n",
      "|       471| 20| 20|-1.1012242363556006|10.255015772333854| 3.589597364806948|-4.547209213742605|2.6657098188435597|  7.08478856513968|\n",
      "|       496| 20| 20| -17.10135369945869| 54.39589825365896|3.5900412844154244| -4.54881661950235| 4.528314059710676| 18.63630522318597|\n",
      "|      1238| 50| 50| -4.046307639606464|34.687972375171306|3.5981683352545537|-4.872868892058087|1.8439833579824747| 27.02842709123733|\n",
      "+----------+---+---+-------------------+------------------+------------------+------------------+------------------+------------------+\n",
      "only showing top 5 rows\n",
      "\n"
     ]
    }
   ],
   "source": [
    "m_features = ['breath_ids', 'R', 'C', 'm_u_in', 'q_u_in', 'm_u_out', 'q_u_out', 'm_pressure']\n",
    "q = data.select('q_pressure', col('breath_ids').alias('b_id'))\n",
    "lr_data = df_m.join(q, q.b_id == df_m.breath_ids).select(*df_m.columns, col('q_pressure').alias(\"label\"))\n",
    "lr_data.show(5)"
   ]
  },
  {
   "cell_type": "code",
   "execution_count": 28,
   "id": "israeli-cherry",
   "metadata": {},
   "outputs": [],
   "source": [
    "train, test = lr_data.randomSplit([0.8, 0.2], seed=69)"
   ]
  },
  {
   "cell_type": "code",
   "execution_count": 29,
   "id": "outer-merchant",
   "metadata": {},
   "outputs": [],
   "source": [
    "featuresCols = m_features.copy()\n",
    "featuresCols.remove('breath_ids')\n",
    "vectorAssembler = VectorAssembler(inputCols=for_prediction, outputCol=\"unscaled_features\")\n",
    "standardScaler = StandardScaler(inputCol=\"unscaled_features\", outputCol=\"features\")\n",
    "pipeline = Pipeline(stages=[vectorAssembler, standardScaler, tvs])"
   ]
  },
  {
   "cell_type": "markdown",
   "id": "polish-strain",
   "metadata": {},
   "source": [
    "## Regression for q_pressure"
   ]
  },
  {
   "cell_type": "code",
   "execution_count": 30,
   "id": "fourth-budget",
   "metadata": {},
   "outputs": [],
   "source": [
    "model = pipeline.fit(train)"
   ]
  },
  {
   "cell_type": "code",
   "execution_count": 31,
   "id": "later-flesh",
   "metadata": {},
   "outputs": [],
   "source": [
    "predictions = model.transform(test)"
   ]
  },
  {
   "cell_type": "code",
   "execution_count": 32,
   "id": "second-civilization",
   "metadata": {},
   "outputs": [
    {
     "name": "stdout",
     "output_type": "stream",
     "text": [
      "RMSE: 1.503\n",
      "MSE: 2.260\n",
      "MAE: 1.035\n",
      "r2: 0.941\n"
     ]
    }
   ],
   "source": [
    "performance_metrics(predictions)"
   ]
  },
  {
   "cell_type": "markdown",
   "id": "controlled-spokesman",
   "metadata": {},
   "source": [
    "## Output from the second regression technique\n"
   ]
  },
  {
   "cell_type": "code",
   "execution_count": 33,
   "id": "foster-grant",
   "metadata": {},
   "outputs": [],
   "source": [
    "q_pressure = model.transform(lr_data)\n",
    "q_press_predicted = q_pressure.select([col(\"breath_ids\").alias(\"b_id\"), 'prediction'])"
   ]
  },
  {
   "cell_type": "code",
   "execution_count": 34,
   "id": "graphic-marketplace",
   "metadata": {},
   "outputs": [
    {
     "name": "stdout",
     "output_type": "stream",
     "text": [
      "+----------+---+---+-------------------+------------------+------------------+------------------+------------------+------------------+\n",
      "|breath_ids|  R|  C|             m_u_in|            q_u_in|           m_u_out|           q_u_out|        m_pressure|        q_pressure|\n",
      "+----------+---+---+-------------------+------------------+------------------+------------------+------------------+------------------+\n",
      "|       148| 50| 10| -0.627586555937512| 3.279187855644647| 3.583992459539968|-4.387057482814503| 1.712044550044049|  5.34503881585481|\n",
      "|       463| 50| 10| -2.730341695467989|11.496348651324867|3.5980943797891185|-4.875283862177274| 5.452311677836793|14.948109371520614|\n",
      "|       471| 20| 20|-1.1012242363556006|10.255015772333854| 3.589597364806948|-4.547209213742605|2.9888939958281715|   7.7907105734523|\n",
      "|       496| 20| 20| -17.10135369945869| 54.39589825365896|3.5900412844154244| -4.54881661950235| 2.781362935991756| 20.42425504277897|\n",
      "|      1238| 50| 50| -4.046307639606464|34.687972375171306|3.5981683352545537|-4.872868892058087|  1.09470120183871|23.395317476086657|\n",
      "+----------+---+---+-------------------+------------------+------------------+------------------+------------------+------------------+\n",
      "only showing top 5 rows\n",
      "\n"
     ]
    }
   ],
   "source": [
    "df_regressed_2 = data.select(m_features)\n",
    "df_regressed_2 = df_regressed_2.join(q_press_predicted, q_press_predicted.b_id == df_regressed_2.breath_ids).select(*df_regressed_2.columns, col('prediction').alias('q_pressure'))\n",
    "df_regressed_2.show(5)"
   ]
  },
  {
   "cell_type": "markdown",
   "id": "positive-jefferson",
   "metadata": {},
   "source": [
    "# Regression #3 \n",
    "### 1. Regress the q parameter for pressure \n",
    "### 2. Include the predicted value of q in the trianning set when predicting the m"
   ]
  },
  {
   "cell_type": "code",
   "execution_count": 35,
   "id": "fewer-effort",
   "metadata": {},
   "outputs": [
    {
     "name": "stdout",
     "output_type": "stream",
     "text": [
      "+----------+---+---+-------------------+------------------+------------------+------------------+------------------+\n",
      "|breath_ids|  R|  C|             m_u_in|            q_u_in|           m_u_out|           q_u_out|        q_pressure|\n",
      "+----------+---+---+-------------------+------------------+------------------+------------------+------------------+\n",
      "|       148| 50| 10| -0.627586555937512| 3.279187855644647| 3.583992459539968|-4.387057482814503|  5.34503881585481|\n",
      "|       463| 50| 10| -2.730341695467989|11.496348651324867|3.5980943797891185|-4.875283862177274|14.948109371520614|\n",
      "|       471| 20| 20|-1.1012242363556006|10.255015772333854| 3.589597364806948|-4.547209213742605|   7.7907105734523|\n",
      "|       496| 20| 20| -17.10135369945869| 54.39589825365896|3.5900412844154244| -4.54881661950235| 20.42425504277897|\n",
      "|      1238| 50| 50| -4.046307639606464|34.687972375171306|3.5981683352545537|-4.872868892058087|23.395317476086657|\n",
      "+----------+---+---+-------------------+------------------+------------------+------------------+------------------+\n",
      "only showing top 5 rows\n",
      "\n"
     ]
    }
   ],
   "source": [
    "# Append to the original dataset the q_pressure field calculated from the step before\n",
    "df_q = data.select(features)\n",
    "df_q = df_q.join(q_press_predicted, q_press_predicted.b_id == df_m.breath_ids).select(*df_q.columns, col('prediction').alias('q_pressure'))\n",
    "df_q.show(5)"
   ]
  },
  {
   "cell_type": "code",
   "execution_count": 36,
   "id": "capital-rachel",
   "metadata": {},
   "outputs": [
    {
     "name": "stdout",
     "output_type": "stream",
     "text": [
      "+----------+---+---+-------------------+------------------+------------------+------------------+------------------+------------------+\n",
      "|breath_ids|  R|  C|             m_u_in|            q_u_in|           m_u_out|           q_u_out|        q_pressure|             label|\n",
      "+----------+---+---+-------------------+------------------+------------------+------------------+------------------+------------------+\n",
      "|       148| 50| 10| -0.627586555937512| 3.279187855644647| 3.583992459539968|-4.387057482814503|  5.34503881585481| 1.712044550044049|\n",
      "|       463| 50| 10| -2.730341695467989|11.496348651324867|3.5980943797891185|-4.875283862177274|14.948109371520614| 5.452311677836793|\n",
      "|       471| 20| 20|-1.1012242363556006|10.255015772333854| 3.589597364806948|-4.547209213742605|   7.7907105734523|2.9888939958281715|\n",
      "|       496| 20| 20| -17.10135369945869| 54.39589825365896|3.5900412844154244| -4.54881661950235| 20.42425504277897| 2.781362935991756|\n",
      "|      1238| 50| 50| -4.046307639606464|34.687972375171306|3.5981683352545537|-4.872868892058087|23.395317476086657|  1.09470120183871|\n",
      "+----------+---+---+-------------------+------------------+------------------+------------------+------------------+------------------+\n",
      "only showing top 5 rows\n",
      "\n"
     ]
    }
   ],
   "source": [
    "q_features = ['breath_ids', 'R', 'C', 'm_u_in', 'q_u_in', 'm_u_out', 'q_u_out', 'q_pressure']\n",
    "m = data.select('m_pressure', col('breath_ids').alias('b_id'))\n",
    "lr_data = df_q.join(m, m.b_id == df_q.breath_ids).select(*df_q.columns, col('m_pressure').alias('label'))\n",
    "lr_data.show(5)"
   ]
  },
  {
   "cell_type": "code",
   "execution_count": 37,
   "id": "found-enemy",
   "metadata": {},
   "outputs": [],
   "source": [
    "train, test = lr_data.randomSplit([0.8, 0.2], seed=69)"
   ]
  },
  {
   "cell_type": "code",
   "execution_count": 38,
   "id": "medical-blond",
   "metadata": {},
   "outputs": [],
   "source": [
    "for_prediction = q_features.copy()\n",
    "for_prediction.remove('breath_ids')\n",
    "vectorAssembler = VectorAssembler(inputCols=for_prediction, outputCol=\"unscaled_features\")\n",
    "standardScaler = StandardScaler(inputCol=\"unscaled_features\", outputCol=\"features\")\n",
    "pipeline = Pipeline(stages=[vectorAssembler, standardScaler, tvs])"
   ]
  },
  {
   "cell_type": "markdown",
   "id": "executed-peripheral",
   "metadata": {},
   "source": [
    "## Regression for m_pressure"
   ]
  },
  {
   "cell_type": "code",
   "execution_count": 39,
   "id": "scientific-middle",
   "metadata": {},
   "outputs": [],
   "source": [
    "model = pipeline.fit(train)\n",
    "prediction = model.transform(test)"
   ]
  },
  {
   "cell_type": "code",
   "execution_count": 40,
   "id": "parliamentary-cargo",
   "metadata": {},
   "outputs": [
    {
     "name": "stdout",
     "output_type": "stream",
     "text": [
      "RMSE: 1.318\n",
      "MSE: 1.738\n",
      "MAE: 0.956\n",
      "r2: 0.743\n"
     ]
    }
   ],
   "source": [
    "performance_metrics(prediction)"
   ]
  },
  {
   "cell_type": "markdown",
   "id": "rural-education",
   "metadata": {},
   "source": [
    "## Output from the second regression technique"
   ]
  },
  {
   "cell_type": "code",
   "execution_count": 41,
   "id": "appropriate-necessity",
   "metadata": {},
   "outputs": [],
   "source": [
    "m_pressure = model.transform(lr_data)\n",
    "m_press_predicted = m_pressure.select([col(\"breath_ids\").alias(\"b_id\"), 'prediction'])"
   ]
  },
  {
   "cell_type": "code",
   "execution_count": 42,
   "id": "resident-three",
   "metadata": {},
   "outputs": [
    {
     "name": "stdout",
     "output_type": "stream",
     "text": [
      "+----------+---+---+-------------------+------------------+------------------+------------------+------------------+------------------+\n",
      "|breath_ids|  R|  C|             m_u_in|            q_u_in|           m_u_out|           q_u_out|        q_pressure|        m_pressure|\n",
      "+----------+---+---+-------------------+------------------+------------------+------------------+------------------+------------------+\n",
      "|       148| 50| 10| -0.627586555937512| 3.279187855644647| 3.583992459539968|-4.387057482814503| 4.787830588906654|2.9105266268096273|\n",
      "|       463| 50| 10| -2.730341695467989|11.496348651324867|3.5980943797891185|-4.875283862177274|14.032851614737082| 5.600717415261689|\n",
      "|       471| 20| 20|-1.1012242363556006|10.255015772333854| 3.589597364806948|-4.547209213742605|  7.08478856513968| 4.109787015938288|\n",
      "|       496| 20| 20| -17.10135369945869| 54.39589825365896|3.5900412844154244| -4.54881661950235| 18.63630522318597| 4.493247356099403|\n",
      "|      1238| 50| 50| -4.046307639606464|34.687972375171306|3.5981683352545537|-4.872868892058087| 27.02842709123733|1.8851361223820051|\n",
      "+----------+---+---+-------------------+------------------+------------------+------------------+------------------+------------------+\n",
      "only showing top 5 rows\n",
      "\n"
     ]
    }
   ],
   "source": [
    "df_regressed_3 = data.select(q_features)\n",
    "df_regressed_3 = df_regressed_3.join(m_press_predicted, m_press_predicted.b_id == df_regressed_3.breath_ids).select(*df_regressed_3.columns, col('prediction').alias('m_pressure'))\n",
    "df_regressed_3.show(5)"
   ]
  }
 ],
 "metadata": {
  "kernelspec": {
   "display_name": "Python 3",
   "language": "python",
   "name": "python3"
  },
  "language_info": {
   "codemirror_mode": {
    "name": "ipython",
    "version": 3
   },
   "file_extension": ".py",
   "mimetype": "text/x-python",
   "name": "python",
   "nbconvert_exporter": "python",
   "pygments_lexer": "ipython3",
   "version": "3.8.10"
  }
 },
 "nbformat": 4,
 "nbformat_minor": 5
}

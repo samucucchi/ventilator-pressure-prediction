{
 "cells": [
  {
   "cell_type": "code",
   "execution_count": 1,
   "id": "marked-apparatus",
   "metadata": {},
   "outputs": [],
   "source": [
    "import pyspark as spark\n",
    "from pyspark import SparkContext\n",
    "# initialize a new Spark Context to use for the execution of the script\n",
    "sc = SparkContext(appName=\"MY-APP-NAME\", master=\"local[*]\")\n",
    "# prevent useless logging messages\n",
    "sc.setLogLevel(\"ERROR\")"
   ]
  },
  {
   "cell_type": "code",
   "execution_count": 2,
   "id": "stopped-equipment",
   "metadata": {},
   "outputs": [],
   "source": [
    "from pyspark.sql import SparkSession\n",
    "from pyspark.sql.types import StructType, StructField, FloatType, IntegerType\n",
    "from pyspark.ml import Pipeline\n",
    "from pyspark.ml.regression import DecisionTreeRegressor, LinearRegression\n",
    "from pyspark.ml.classification import LogisticRegression\n",
    "from pyspark.ml.feature import VectorAssembler, StandardScaler\n",
    "from pyspark.ml.evaluation import RegressionEvaluator, MulticlassClassificationEvaluator, BinaryClassificationEvaluator\n",
    "from pyspark.ml.classification import FMClassifier\n",
    "import numpy as np\n",
    "from pyspark.mllib.clustering import KMeans\n",
    "import matplotlib.pyplot as plt\n",
    "from pyspark.sql.functions import col\n",
    "from pyspark.ml.tuning import ParamGridBuilder, TrainValidationSplit\n",
    "import matplotlib.pyplot as plt\n",
    "\n",
    "spark = SparkSession.builder \\\n",
    "    .master(\"local\") \\\n",
    "    .appName(\"appName\") \\\n",
    "    .getOrCreate()"
   ]
  },
  {
   "cell_type": "code",
   "execution_count": 3,
   "id": "specific-toronto",
   "metadata": {},
   "outputs": [],
   "source": [
    "def performance_metrics(predicted_values):\n",
    "    eval = RegressionEvaluator(labelCol=\"label\", predictionCol=\"prediction\", metricName=\"rmse\")\n",
    "\n",
    "    #Root Mean Square Error\n",
    "    rmse = eval.evaluate(predicted_values)\n",
    "    print(\"RMSE: %.3f\" % rmse)\n",
    "\n",
    "    # Mean Square Error\n",
    "    mse = eval.evaluate(predicted_values, {eval.metricName: \"mse\"})\n",
    "    print(\"MSE: %.3f\" % mse)\n",
    "\n",
    "    # Mean Absolute Error\n",
    "    mae = eval.evaluate(predicted_values, {eval.metricName: \"mae\"})\n",
    "    print(\"MAE: %.3f\" % mae)\n",
    "\n",
    "    # r2 - coefficient of determination\n",
    "    r2 = eval.evaluate(predicted_values, {eval.metricName: \"r2\"})\n",
    "    print(\"r2: %.3f\" %r2)"
   ]
  },
  {
   "cell_type": "code",
   "execution_count": 4,
   "id": "simplified-preview",
   "metadata": {},
   "outputs": [],
   "source": [
    "rf = DecisionTreeRegressor(seed = 69)\n",
    "\n",
    "paramGrid = ParamGridBuilder()\\\n",
    ".addGrid(rf.maxBins, list(np.arange(2, 50, 2)))\\\n",
    ".addGrid(rf.maxDepth, list(np.arange(2, 28, 2)))\\\n",
    ".build()\n",
    "\n",
    "tvs = TrainValidationSplit(estimator=rf,\n",
    "                           estimatorParamMaps=paramGrid,\n",
    "                           evaluator=RegressionEvaluator(labelCol=\"label\", predictionCol=\"prediction\", metricName=\"r2\"), \n",
    "                           trainRatio=0.8)"
   ]
  },
  {
   "cell_type": "code",
   "execution_count": 5,
   "id": "lucky-scope",
   "metadata": {},
   "outputs": [
    {
     "name": "stdout",
     "output_type": "stream",
     "text": [
      "+----------+---+---+-------------------+------------------+------------------+------------------+------------------+------------------+\n",
      "|breath_ids|  R|  C|             m_u_in|            q_u_in|           m_u_out|           q_u_out|        m_pressure|        q_pressure|\n",
      "+----------+---+---+-------------------+------------------+------------------+------------------+------------------+------------------+\n",
      "|       148| 50| 10| -0.627586555937512| 3.279187855644647| 3.583992459539968|-4.387057482814503| 1.712044550044049| 4.787830588906654|\n",
      "|       463| 50| 10| -2.730341695467989|11.496348651324867|3.5980943797891185|-4.875283862177274| 5.452311677836793|14.032851614737082|\n",
      "|       471| 20| 20|-1.1012242363556006|10.255015772333854| 3.589597364806948|-4.547209213742605|2.9888939958281715|  7.08478856513968|\n",
      "|       496| 20| 20| -17.10135369945869| 54.39589825365896|3.5900412844154244| -4.54881661950235| 2.781362935991756| 18.63630522318597|\n",
      "|      1238| 50| 50| -4.046307639606464|34.687972375171306|3.5981683352545537|-4.872868892058087|  1.09470120183871| 27.02842709123733|\n",
      "+----------+---+---+-------------------+------------------+------------------+------------------+------------------+------------------+\n",
      "only showing top 5 rows\n",
      "\n"
     ]
    }
   ],
   "source": [
    "data = spark.read.options(header='true', inferschema='true', delimiter=',').csv(\"data/df.csv\")\n",
    "data.show(5)"
   ]
  },
  {
   "cell_type": "code",
   "execution_count": 6,
   "id": "induced-princeton",
   "metadata": {},
   "outputs": [],
   "source": [
    "#take distinct values of R and C\n",
    "R_dumm = data.select('R').distinct().rdd.map(lambda r: r[0]).collect()\n",
    "C_dumm = data.select('C').distinct().rdd.map(lambda r: r[0]).collect()"
   ]
  },
  {
   "cell_type": "code",
   "execution_count": 7,
   "id": "arranged-parameter",
   "metadata": {},
   "outputs": [],
   "source": [
    "#build dummified columns\n",
    "import pyspark.sql.functions as F\n",
    "\n",
    "R_expr = [F.when(F.col(\"R\") == r, 1).otherwise(0).alias(\"R_\" + str(r)) for r in R_dumm]\n",
    "C_expr = [F.when(F.col(\"C\") == c, 1).otherwise(0).alias(\"C_\" + str(c)) for c in C_dumm]"
   ]
  },
  {
   "cell_type": "code",
   "execution_count": 8,
   "id": "arabic-structure",
   "metadata": {},
   "outputs": [
    {
     "name": "stdout",
     "output_type": "stream",
     "text": [
      "+----------+-------------------+------------------+------------------+------------------+------------------+------------------+----+---+----+----+\n",
      "|breath_ids|             m_u_in|            q_u_in|           m_u_out|           q_u_out|        m_pressure|        q_pressure|R_20|R_5|C_20|C_10|\n",
      "+----------+-------------------+------------------+------------------+------------------+------------------+------------------+----+---+----+----+\n",
      "|       148| -0.627586555937512| 3.279187855644647| 3.583992459539968|-4.387057482814503| 1.712044550044049| 4.787830588906654|   0|  0|   0|   1|\n",
      "|       463| -2.730341695467989|11.496348651324867|3.5980943797891185|-4.875283862177274| 5.452311677836793|14.032851614737082|   0|  0|   0|   1|\n",
      "|       471|-1.1012242363556006|10.255015772333854| 3.589597364806948|-4.547209213742605|2.9888939958281715|  7.08478856513968|   1|  0|   1|   0|\n",
      "|       496| -17.10135369945869| 54.39589825365896|3.5900412844154244| -4.54881661950235| 2.781362935991756| 18.63630522318597|   1|  0|   1|   0|\n",
      "|      1238| -4.046307639606464|34.687972375171306|3.5981683352545537|-4.872868892058087|  1.09470120183871| 27.02842709123733|   0|  0|   0|   0|\n",
      "|      1342| -6.175261638330198| 24.47672933779776|3.5948644400228567|-4.713285506644716|0.6845099287583689|22.626326529665427|   0|  0|   0|   0|\n",
      "|      1580|-1.5204424609411895|17.320873138391427| 3.584283239477632|-4.382057591700601| 4.355513315991316| 9.740971938867256|   1|  0|   1|   0|\n",
      "|      1645|  0.935860637731019|10.442244763939067| 3.584131917584036| -4.38757546246712| 4.328470069986627| 8.222131994813305|   1|  0|   0|   0|\n",
      "|      1959| -4.854004504201337| 22.65053703613003| 3.584180301211528| -4.38912726714304|   4.8388802678845| 7.930797617794301|   0|  1|   1|   0|\n",
      "|      2122|  -2.55449232461021| 41.04554616339323| 3.598207210042586|-4.874692296313349| 9.016447502734572| 8.302497476373262|   0|  1|   1|   0|\n",
      "|      2142| 0.8922775515707833|20.619025364233096| 3.584066648026379|-4.385212416822631|  5.93145909819311|10.606715137344423|   1|  0|   1|   0|\n",
      "|      2366| -1.869042081574929| 8.917771160325245| 3.589991311482618|-4.556426917364235| 4.860039178070342| 4.829055734885658|   0|  0|   0|   1|\n",
      "|      2866| -3.099113867588371|14.491351542655709|3.5943656507902144|-4.711255189097828| 6.662936011142981|  9.11272755066214|   1|  0|   0|   1|\n",
      "|      3175| -4.391187126030625|10.694322005245157|3.5896348061537133|-4.546471170576428|1.6804431162227125|11.500785693377106|   1|  0|   0|   1|\n",
      "|      3749|-22.554217834186165|105.43210193797344| 3.584628940307792|-4.383703142027192| 6.394438053199085|11.818428757018992|   0|  1|   0|   0|\n",
      "|      3997|  6.666655795719178|11.383665605572324|3.5977157165425457|-4.875093712991518| 7.067109675166442| 5.516329305417091|   0|  1|   1|   0|\n",
      "|      4519|  1.101570785865959|3.1717474157733445|3.5943614117912874| -4.71329629051993| 2.677141620485721| 5.729187500379058|   0|  1|   1|   0|\n",
      "|      4818| 0.2102091986970501| 6.620828670468958|  3.58380809870901|-4.386703092001586|  2.83191633356152| 7.156238260253502|   1|  0|   0|   0|\n",
      "|      4900| 1.9679529344740705|10.925752358502043|3.5900190043255336|-4.548693361109227|3.0654226932022146| 8.211366625912548|   1|  0|   0|   0|\n",
      "|      4935|  1.894919337676824|2.4707660622674106|3.5984971900373086|-4.870446437653834| 3.844973821605434|2.9928372807573127|   0|  1|   1|   0|\n",
      "+----------+-------------------+------------------+------------------+------------------+------------------+------------------+----+---+----+----+\n",
      "only showing top 20 rows\n",
      "\n"
     ]
    }
   ],
   "source": [
    "data = data.select(\"breath_ids\", \"m_u_in\", \"q_u_in\", \"m_u_out\", \"q_u_out\", \"m_pressure\", \"q_pressure\", *R_expr + C_expr).drop('R_50', 'C_50')\n",
    "data.show()"
   ]
  },
  {
   "cell_type": "markdown",
   "id": "changing-scott",
   "metadata": {},
   "source": [
    "# Regression #1 \n",
    "## Regress m and q parameters for the pressure attribute indepentently"
   ]
  },
  {
   "cell_type": "markdown",
   "id": "concerned-height",
   "metadata": {},
   "source": [
    "## Regression m_pressure"
   ]
  },
  {
   "cell_type": "code",
   "execution_count": 9,
   "id": "velvet-thinking",
   "metadata": {},
   "outputs": [],
   "source": [
    "features = ['breath_ids', 'R_5', 'R_20', 'C_10', 'C_20', 'm_u_in', 'q_u_in', 'm_u_out', 'q_u_out']\n",
    "lr_data = data.select(col('m_pressure').alias(\"label\"), *features)"
   ]
  },
  {
   "cell_type": "code",
   "execution_count": 10,
   "id": "chicken-death",
   "metadata": {},
   "outputs": [],
   "source": [
    "train, test = lr_data.randomSplit([0.8, 0.2], seed=69)"
   ]
  },
  {
   "cell_type": "code",
   "execution_count": 11,
   "id": "standing-oasis",
   "metadata": {},
   "outputs": [
    {
     "name": "stdout",
     "output_type": "stream",
     "text": [
      "+------------------+----------+---+----+----+----+-------------------+------------------+------------------+------------------+\n",
      "|             label|breath_ids|R_5|R_20|C_10|C_20|             m_u_in|            q_u_in|           m_u_out|           q_u_out|\n",
      "+------------------+----------+---+----+----+----+-------------------+------------------+------------------+------------------+\n",
      "|-7.866856074833947|     88590|  0|   0|   0|   1| -25.41676240979036| 65.80159905394707| 3.594318209183017|-4.709952037521332|\n",
      "|-7.663688146587497|    116649|  0|   0|   0|   1|-21.639086214137617| 54.87565125780993| 3.594773597953297|-4.709796481642885|\n",
      "|-7.554157606521539|     20210|  0|   0|   0|   1| -21.45036564244344|53.970380395461575|  3.59429508158818|-4.713761437371403|\n",
      "|-7.507951297643809|    124292|  0|   0|   0|   1|-21.908552023117497| 55.37320489748355| 3.594386690014932|-4.714122611281731|\n",
      "|-7.476816741717444|      9323|  0|   0|   0|   1| -21.41138677291981| 53.63256385162418|3.5943172325696486|-4.712043390372973|\n",
      "+------------------+----------+---+----+----+----+-------------------+------------------+------------------+------------------+\n",
      "only showing top 5 rows\n",
      "\n"
     ]
    }
   ],
   "source": [
    "train.show(5)"
   ]
  },
  {
   "cell_type": "code",
   "execution_count": 12,
   "id": "equal-england",
   "metadata": {},
   "outputs": [],
   "source": [
    "#prepare the data and the pipeline\n",
    "for_prediction = features.copy()\n",
    "for_prediction.remove('breath_ids')\n",
    "vectorAssembler = VectorAssembler(inputCols=for_prediction, outputCol=\"unscaled_features\")\n",
    "standardScaler = StandardScaler(inputCol=\"unscaled_features\", outputCol=\"features\")\n",
    "stages = [vectorAssembler, standardScaler, tvs]\n",
    "pipeline = Pipeline(stages=stages)"
   ]
  },
  {
   "cell_type": "markdown",
   "id": "silver-pillow",
   "metadata": {},
   "source": [
    "### Models performances for m_pressure"
   ]
  },
  {
   "cell_type": "code",
   "execution_count": 13,
   "id": "premier-legislature",
   "metadata": {},
   "outputs": [],
   "source": [
    "model = pipeline.fit(train)\n",
    "prediction = model.transform(test)"
   ]
  },
  {
   "cell_type": "code",
   "execution_count": 14,
   "id": "protected-conditioning",
   "metadata": {},
   "outputs": [
    {
     "name": "stdout",
     "output_type": "stream",
     "text": [
      "RMSE: 1.158\n",
      "MSE: 1.342\n",
      "MAE: 0.787\n",
      "r2: 0.811\n"
     ]
    }
   ],
   "source": [
    "performance_metrics(prediction)"
   ]
  },
  {
   "cell_type": "code",
   "execution_count": 15,
   "id": "spanish-alcohol",
   "metadata": {},
   "outputs": [
    {
     "name": "stdout",
     "output_type": "stream",
     "text": [
      "Best Param (MaxBins):  32\n",
      "Best Param (MaxDepth):  5\n"
     ]
    }
   ],
   "source": [
    "print('Best Param (MaxBins): ',rf.getMaxBins())\n",
    "print('Best Param (MaxDepth): ',rf.getMaxDepth())"
   ]
  },
  {
   "cell_type": "markdown",
   "id": "english-anchor",
   "metadata": {},
   "source": [
    "### Get predicted m to the original dataset"
   ]
  },
  {
   "cell_type": "code",
   "execution_count": 16,
   "id": "cross-cosmetic",
   "metadata": {},
   "outputs": [],
   "source": [
    "m_pressure = model.transform(lr_data)\n",
    "m_press_predicted = m_pressure.select([col(\"breath_ids\").alias(\"b_id\"), 'prediction'])"
   ]
  },
  {
   "cell_type": "markdown",
   "id": "scenic-bradley",
   "metadata": {},
   "source": [
    "## Regression for q_pressure"
   ]
  },
  {
   "cell_type": "code",
   "execution_count": 17,
   "id": "handled-watts",
   "metadata": {},
   "outputs": [],
   "source": [
    "lr_data = data.select(col('q_pressure').alias(\"label\"), *features)"
   ]
  },
  {
   "cell_type": "code",
   "execution_count": 18,
   "id": "indoor-immunology",
   "metadata": {},
   "outputs": [],
   "source": [
    "train, test = lr_data.randomSplit([0.8, 0.2], seed=69)"
   ]
  },
  {
   "cell_type": "code",
   "execution_count": 19,
   "id": "final-belly",
   "metadata": {},
   "outputs": [],
   "source": [
    "#prepare the data and the pipeline\n",
    "vectorAssembler = VectorAssembler(inputCols=for_prediction, outputCol=\"unscaled_features\")\n",
    "standardScaler = StandardScaler(inputCol=\"unscaled_features\", outputCol=\"features\")\n",
    "stages = [vectorAssembler, standardScaler, tvs]\n",
    "pipeline = Pipeline(stages=stages)"
   ]
  },
  {
   "cell_type": "markdown",
   "id": "adjusted-memphis",
   "metadata": {},
   "source": [
    "### Test performances on q_pressure"
   ]
  },
  {
   "cell_type": "code",
   "execution_count": 20,
   "id": "rental-cyprus",
   "metadata": {},
   "outputs": [],
   "source": [
    "model = pipeline.fit(train)\n",
    "prediction = model.transform(test)"
   ]
  },
  {
   "cell_type": "code",
   "execution_count": 21,
   "id": "specified-weather",
   "metadata": {},
   "outputs": [
    {
     "name": "stdout",
     "output_type": "stream",
     "text": [
      "['R_5', 'R_20', 'C_10', 'C_20', 'm_u_in', 'q_u_in', 'm_u_out', 'q_u_out']\n"
     ]
    }
   ],
   "source": [
    "print(for_prediction)"
   ]
  },
  {
   "cell_type": "code",
   "execution_count": 22,
   "id": "alone-amsterdam",
   "metadata": {},
   "outputs": [
    {
     "name": "stdout",
     "output_type": "stream",
     "text": [
      "RMSE: 1.304\n",
      "MSE: 1.699\n",
      "MAE: 0.880\n",
      "r2: 0.957\n"
     ]
    }
   ],
   "source": [
    "performance_metrics(prediction)"
   ]
  },
  {
   "cell_type": "code",
   "execution_count": 23,
   "id": "comparable-concrete",
   "metadata": {},
   "outputs": [
    {
     "name": "stdout",
     "output_type": "stream",
     "text": [
      "Best Param (MaxBins):  32\n",
      "Best Param (MaxDepth):  5\n"
     ]
    }
   ],
   "source": [
    "print('Best Param (MaxBins): ',rf.getMaxBins())\n",
    "print('Best Param (MaxDepth): ',rf.getMaxDepth())"
   ]
  },
  {
   "cell_type": "markdown",
   "id": "junior-visit",
   "metadata": {},
   "source": [
    "### Get predicted q to the original dataset "
   ]
  },
  {
   "cell_type": "code",
   "execution_count": 24,
   "id": "metallic-latex",
   "metadata": {},
   "outputs": [],
   "source": [
    "q_pressure = model.transform(lr_data)\n",
    "q_press_predicted = q_pressure.select([col(\"breath_ids\").alias(\"b_id\"), 'prediction'])"
   ]
  },
  {
   "cell_type": "markdown",
   "id": "sunset-vanilla",
   "metadata": {},
   "source": [
    "# Output from the first regression technique"
   ]
  },
  {
   "cell_type": "code",
   "execution_count": 25,
   "id": "treated-hampshire",
   "metadata": {},
   "outputs": [
    {
     "name": "stdout",
     "output_type": "stream",
     "text": [
      "+----------+---+----+----+----+-------------------+------------------+------------------+------------------+------------------+------------------+\n",
      "|breath_ids|R_5|R_20|C_10|C_20|             m_u_in|            q_u_in|           m_u_out|           q_u_out|        m_pressure|        q_pressure|\n",
      "+----------+---+----+----+----+-------------------+------------------+------------------+------------------+------------------+------------------+\n",
      "|       148|  0|   0|   1|   0| -0.627586555937512| 3.279187855644647| 3.583992459539968|-4.387057482814503|1.4522563494115552| 5.887222668718062|\n",
      "|       463|  0|   0|   1|   0| -2.730341695467989|11.496348651324867|3.5980943797891185|-4.875283862177274| 5.952493656751781|14.168895301860081|\n",
      "|       471|  0|   1|   0|   1|-1.1012242363556006|10.255015772333854| 3.589597364806948|-4.547209213742605|  2.68850908668299| 7.813178418407266|\n",
      "|       496|  0|   1|   0|   1| -17.10135369945869| 54.39589825365896|3.5900412844154244| -4.54881661950235| 4.712191946387388|19.787375888092324|\n",
      "|      1238|  0|   0|   0|   0| -4.046307639606464|34.687972375171306|3.5981683352545537|-4.872868892058087|1.8179213345662018|28.930351163447163|\n",
      "+----------+---+----+----+----+-------------------+------------------+------------------+------------------+------------------+------------------+\n",
      "only showing top 5 rows\n",
      "\n"
     ]
    }
   ],
   "source": [
    "df_regressed_1 = data.select(features)\n",
    "df_regressed_1 = df_regressed_1.join(m_press_predicted, m_press_predicted.b_id == df_regressed_1.breath_ids).select(*df_regressed_1.columns, col('prediction').alias('m_pressure'))\n",
    "df_regressed_1 = df_regressed_1.join(q_press_predicted, q_press_predicted.b_id == df_regressed_1.breath_ids).select(*df_regressed_1.columns, col('prediction').alias('q_pressure'))\n",
    "df_regressed_1.show(5)"
   ]
  },
  {
   "cell_type": "markdown",
   "id": "emotional-evaluation",
   "metadata": {},
   "source": [
    "# Regression #2\n",
    "### 1. Regress the m parameter for pressure\n",
    "### 2. Include the predicted value of m in the training set when predicting the q"
   ]
  },
  {
   "cell_type": "code",
   "execution_count": 26,
   "id": "nonprofit-christopher",
   "metadata": {},
   "outputs": [
    {
     "name": "stdout",
     "output_type": "stream",
     "text": [
      "+----------+-------------------+------------------+------------------+------------------+------------------+------------------+----+---+----+----+\n",
      "|breath_ids|             m_u_in|            q_u_in|           m_u_out|           q_u_out|        m_pressure|        q_pressure|R_20|R_5|C_20|C_10|\n",
      "+----------+-------------------+------------------+------------------+------------------+------------------+------------------+----+---+----+----+\n",
      "|       148| -0.627586555937512| 3.279187855644647| 3.583992459539968|-4.387057482814503| 1.712044550044049| 4.787830588906654|   0|  0|   0|   1|\n",
      "|       463| -2.730341695467989|11.496348651324867|3.5980943797891185|-4.875283862177274| 5.452311677836793|14.032851614737082|   0|  0|   0|   1|\n",
      "|       471|-1.1012242363556006|10.255015772333854| 3.589597364806948|-4.547209213742605|2.9888939958281715|  7.08478856513968|   1|  0|   1|   0|\n",
      "|       496| -17.10135369945869| 54.39589825365896|3.5900412844154244| -4.54881661950235| 2.781362935991756| 18.63630522318597|   1|  0|   1|   0|\n",
      "|      1238| -4.046307639606464|34.687972375171306|3.5981683352545537|-4.872868892058087|  1.09470120183871| 27.02842709123733|   0|  0|   0|   0|\n",
      "+----------+-------------------+------------------+------------------+------------------+------------------+------------------+----+---+----+----+\n",
      "only showing top 5 rows\n",
      "\n"
     ]
    }
   ],
   "source": [
    "data.show(5)"
   ]
  },
  {
   "cell_type": "code",
   "execution_count": 27,
   "id": "mineral-character",
   "metadata": {},
   "outputs": [
    {
     "name": "stdout",
     "output_type": "stream",
     "text": [
      "+----------+---+----+----+----+-------------------+------------------+------------------+------------------+------------------+\n",
      "|breath_ids|R_5|R_20|C_10|C_20|             m_u_in|            q_u_in|           m_u_out|           q_u_out|        m_pressure|\n",
      "+----------+---+----+----+----+-------------------+------------------+------------------+------------------+------------------+\n",
      "|       148|  0|   0|   1|   0| -0.627586555937512| 3.279187855644647| 3.583992459539968|-4.387057482814503|1.4522563494115552|\n",
      "|       463|  0|   0|   1|   0| -2.730341695467989|11.496348651324867|3.5980943797891185|-4.875283862177274| 5.952493656751781|\n",
      "|       471|  0|   1|   0|   1|-1.1012242363556006|10.255015772333854| 3.589597364806948|-4.547209213742605|  2.68850908668299|\n",
      "|       496|  0|   1|   0|   1| -17.10135369945869| 54.39589825365896|3.5900412844154244| -4.54881661950235| 4.712191946387388|\n",
      "|      1238|  0|   0|   0|   0| -4.046307639606464|34.687972375171306|3.5981683352545537|-4.872868892058087|1.8179213345662018|\n",
      "+----------+---+----+----+----+-------------------+------------------+------------------+------------------+------------------+\n",
      "only showing top 5 rows\n",
      "\n"
     ]
    }
   ],
   "source": [
    "# Append to the original dataset the m_pressure field calculated from the step before\n",
    "df_m = data.select(features)\n",
    "df_m = data.join(m_press_predicted, m_press_predicted.b_id == df_m.breath_ids).select(*df_m.columns, col('prediction').alias('m_pressure'))\n",
    "df_m.show(5)"
   ]
  },
  {
   "cell_type": "code",
   "execution_count": 28,
   "id": "effective-officer",
   "metadata": {},
   "outputs": [
    {
     "name": "stdout",
     "output_type": "stream",
     "text": [
      "+----------+---+----+----+----+-------------------+------------------+------------------+------------------+------------------+------------------+\n",
      "|breath_ids|R_5|R_20|C_10|C_20|             m_u_in|            q_u_in|           m_u_out|           q_u_out|        m_pressure|             label|\n",
      "+----------+---+----+----+----+-------------------+------------------+------------------+------------------+------------------+------------------+\n",
      "|       148|  0|   0|   1|   0| -0.627586555937512| 3.279187855644647| 3.583992459539968|-4.387057482814503|1.4522563494115552| 4.787830588906654|\n",
      "|       463|  0|   0|   1|   0| -2.730341695467989|11.496348651324867|3.5980943797891185|-4.875283862177274| 5.952493656751781|14.032851614737082|\n",
      "|       471|  0|   1|   0|   1|-1.1012242363556006|10.255015772333854| 3.589597364806948|-4.547209213742605|  2.68850908668299|  7.08478856513968|\n",
      "|       496|  0|   1|   0|   1| -17.10135369945869| 54.39589825365896|3.5900412844154244| -4.54881661950235| 4.712191946387388| 18.63630522318597|\n",
      "|      1238|  0|   0|   0|   0| -4.046307639606464|34.687972375171306|3.5981683352545537|-4.872868892058087|1.8179213345662018| 27.02842709123733|\n",
      "+----------+---+----+----+----+-------------------+------------------+------------------+------------------+------------------+------------------+\n",
      "only showing top 5 rows\n",
      "\n"
     ]
    }
   ],
   "source": [
    "m_features = ['breath_ids', 'R_5', 'R_20', 'C_10', 'C_20', 'm_u_in', 'q_u_in', 'm_u_out', 'q_u_out', 'm_pressure']\n",
    "q = data.select('q_pressure', col('breath_ids').alias('b_id'))\n",
    "lr_data = df_m.join(q, q.b_id == df_m.breath_ids).select(*df_m.columns, col('q_pressure').alias(\"label\"))\n",
    "lr_data.show(5)"
   ]
  },
  {
   "cell_type": "code",
   "execution_count": 29,
   "id": "ecological-circus",
   "metadata": {},
   "outputs": [],
   "source": [
    "train, test = lr_data.randomSplit([0.8, 0.2], seed=69)"
   ]
  },
  {
   "cell_type": "code",
   "execution_count": 30,
   "id": "compliant-waters",
   "metadata": {},
   "outputs": [],
   "source": [
    "#prepare the data and the pipeline\n",
    "for_prediction = m_features.copy()\n",
    "for_prediction.remove('breath_ids')\n",
    "vectorAssembler = VectorAssembler(inputCols=for_prediction, outputCol=\"unscaled_features\")\n",
    "standardScaler = StandardScaler(inputCol=\"unscaled_features\", outputCol=\"features\")\n",
    "stages = [vectorAssembler, standardScaler, tvs]\n",
    "pipeline = Pipeline(stages=stages)"
   ]
  },
  {
   "cell_type": "markdown",
   "id": "present-helicopter",
   "metadata": {},
   "source": [
    "## Regression for q_pressure"
   ]
  },
  {
   "cell_type": "code",
   "execution_count": 31,
   "id": "chemical-catholic",
   "metadata": {},
   "outputs": [],
   "source": [
    "model = pipeline.fit(train)\n",
    "prediction = model.transform(test)"
   ]
  },
  {
   "cell_type": "code",
   "execution_count": 32,
   "id": "blocked-keyboard",
   "metadata": {},
   "outputs": [
    {
     "name": "stdout",
     "output_type": "stream",
     "text": [
      "RMSE: 1.366\n",
      "MSE: 1.866\n",
      "MAE: 0.905\n",
      "r2: 0.952\n"
     ]
    }
   ],
   "source": [
    "performance_metrics(prediction)"
   ]
  },
  {
   "cell_type": "code",
   "execution_count": 33,
   "id": "frozen-assault",
   "metadata": {},
   "outputs": [
    {
     "name": "stdout",
     "output_type": "stream",
     "text": [
      "+----------+---+----+----+----+-------------------+-----------------+------------------+------------------+-------------------+------------------+--------------------+--------------------+------------------+\n",
      "|breath_ids|R_5|R_20|C_10|C_20|             m_u_in|           q_u_in|           m_u_out|           q_u_out|         m_pressure|             label|   unscaled_features|            features|        prediction|\n",
      "+----------+---+----+----+----+-------------------+-----------------+------------------+------------------+-------------------+------------------+--------------------+--------------------+------------------+\n",
      "|       133|  1|   0|   1|   0|  -19.6014207492924|46.98668700460304| 3.594566274579692| -4.71231980483322|   6.94818932980579|18.158814395307186|[1.0,0.0,1.0,0.0,...|[2.13104243257100...|17.098833121645907|\n",
      "|       177|  1|   0|   0|   0| -23.32346938584597|71.05051858227964|3.5843312532246725|-4.381444835800677| 3.1342895580162065|11.163875805026365|[1.0,0.0,0.0,0.0,...|[2.13104243257100...|11.529143278975685|\n",
      "|       193|  0|   1|   1|   0|-14.612867948589033|35.97410373393805| 3.589525025249348|-4.550246009590356| 3.3301232898530664| 18.76886409815613|[0.0,1.0,1.0,0.0,...|[0.0,2.2417186012...|19.225242140889687|\n",
      "|       211|  0|   0|   1|   0| -2.725358163835806|  6.6892785793426| 3.598061106057478|-4.876249319155856|-0.0172024247209853|10.182922176416907|[0.0,0.0,1.0,0.0,...|[0.0,0.0,2.067318...|12.381263191577677|\n",
      "|       212|  1|   0|   1|   0|-22.310545571894497|52.16721254743314|3.5897878993086203|-4.549037115187877|  5.402820460370326| 21.99692333040409|[1.0,0.0,1.0,0.0,...|[2.13104243257100...|  21.8220789597813|\n",
      "+----------+---+----+----+----+-------------------+-----------------+------------------+------------------+-------------------+------------------+--------------------+--------------------+------------------+\n",
      "only showing top 5 rows\n",
      "\n"
     ]
    }
   ],
   "source": [
    "prediction.show(5)"
   ]
  },
  {
   "cell_type": "markdown",
   "id": "monetary-forest",
   "metadata": {},
   "source": [
    "## Output from the second regression technique"
   ]
  },
  {
   "cell_type": "code",
   "execution_count": 34,
   "id": "armed-paris",
   "metadata": {},
   "outputs": [
    {
     "name": "stdout",
     "output_type": "stream",
     "text": [
      "+------------------+----------+---+----+----+----+-------------------+------------------+------------------+------------------+--------------------+--------------------+------------------+\n",
      "|             label|breath_ids|R_5|R_20|C_10|C_20|             m_u_in|            q_u_in|           m_u_out|           q_u_out|   unscaled_features|            features|        prediction|\n",
      "+------------------+----------+---+----+----+----+-------------------+------------------+------------------+------------------+--------------------+--------------------+------------------+\n",
      "| 4.787830588906654|       148|  0|   0|   1|   0| -0.627586555937512| 3.279187855644647| 3.583992459539968|-4.387057482814503|[0.0,0.0,1.0,0.0,...|[0.0,0.0,2.067645...| 5.887222668718062|\n",
      "|14.032851614737082|       463|  0|   0|   1|   0| -2.730341695467989|11.496348651324867|3.5980943797891185|-4.875283862177274|[0.0,0.0,1.0,0.0,...|[0.0,0.0,2.067645...|14.168895301860081|\n",
      "|  7.08478856513968|       471|  0|   1|   0|   1|-1.1012242363556006|10.255015772333854| 3.589597364806948|-4.547209213742605|[0.0,1.0,0.0,1.0,...|[0.0,2.2433944236...| 7.813178418407266|\n",
      "| 18.63630522318597|       496|  0|   1|   0|   1| -17.10135369945869| 54.39589825365896|3.5900412844154244| -4.54881661950235|[0.0,1.0,0.0,1.0,...|[0.0,2.2433944236...|19.787375888092324|\n",
      "| 27.02842709123733|      1238|  0|   0|   0|   0| -4.046307639606464|34.687972375171306|3.5981683352545537|-4.872868892058087|(8,[4,5,6,7],[-4....|(8,[4,5,6,7],[-0....|28.930351163447163|\n",
      "+------------------+----------+---+----+----+----+-------------------+------------------+------------------+------------------+--------------------+--------------------+------------------+\n",
      "only showing top 5 rows\n",
      "\n"
     ]
    }
   ],
   "source": [
    "q_pressure.show(5)"
   ]
  },
  {
   "cell_type": "code",
   "execution_count": 35,
   "id": "wrong-screening",
   "metadata": {},
   "outputs": [],
   "source": [
    "q_pressure = model.transform(lr_data)\n",
    "q_press_predicted = q_pressure.select([col(\"breath_ids\").alias(\"b_id\"), 'prediction'])"
   ]
  },
  {
   "cell_type": "code",
   "execution_count": 36,
   "id": "comparative-hormone",
   "metadata": {},
   "outputs": [
    {
     "name": "stdout",
     "output_type": "stream",
     "text": [
      "+----------+---+----+----+----+-------------------+------------------+------------------+------------------+------------------+------------------+\n",
      "|breath_ids|R_5|R_20|C_10|C_20|             m_u_in|            q_u_in|           m_u_out|           q_u_out|        m_pressure|        q_pressure|\n",
      "+----------+---+----+----+----+-------------------+------------------+------------------+------------------+------------------+------------------+\n",
      "|       148|  0|   0|   1|   0| -0.627586555937512| 3.279187855644647| 3.583992459539968|-4.387057482814503| 1.712044550044049| 5.777340379352523|\n",
      "|       463|  0|   0|   1|   0| -2.730341695467989|11.496348651324867|3.5980943797891185|-4.875283862177274| 5.452311677836793|14.042833228981776|\n",
      "|       471|  0|   1|   0|   1|-1.1012242363556006|10.255015772333854| 3.589597364806948|-4.547209213742605|2.9888939958281715| 8.650926639695456|\n",
      "|       496|  0|   1|   0|   1| -17.10135369945869| 54.39589825365896|3.5900412844154244| -4.54881661950235| 2.781362935991756| 19.95691332133398|\n",
      "|      1238|  0|   0|   0|   0| -4.046307639606464|34.687972375171306|3.5981683352545537|-4.872868892058087|  1.09470120183871|27.108918108049366|\n",
      "+----------+---+----+----+----+-------------------+------------------+------------------+------------------+------------------+------------------+\n",
      "only showing top 5 rows\n",
      "\n"
     ]
    }
   ],
   "source": [
    "df_regressed_2 = data.select(m_features)\n",
    "df_regressed_2 = df_regressed_2.join(q_press_predicted, q_press_predicted.b_id == df_regressed_2.breath_ids).select(*df_regressed_2.columns, col('prediction').alias('q_pressure'))\n",
    "df_regressed_2.show(5)"
   ]
  },
  {
   "cell_type": "markdown",
   "id": "institutional-woman",
   "metadata": {},
   "source": [
    "# Regression #3 \n",
    "### 1. Regress the q parameter for pressure \n",
    "### 2. Include the predicted value of q in the trianning set when predicting the m"
   ]
  },
  {
   "cell_type": "code",
   "execution_count": 37,
   "id": "systematic-champion",
   "metadata": {},
   "outputs": [
    {
     "name": "stdout",
     "output_type": "stream",
     "text": [
      "+----------+---+----+----+----+-------------------+------------------+------------------+------------------+------------------+\n",
      "|breath_ids|R_5|R_20|C_10|C_20|             m_u_in|            q_u_in|           m_u_out|           q_u_out|        q_pressure|\n",
      "+----------+---+----+----+----+-------------------+------------------+------------------+------------------+------------------+\n",
      "|       148|  0|   0|   1|   0| -0.627586555937512| 3.279187855644647| 3.583992459539968|-4.387057482814503| 5.777340379352523|\n",
      "|       463|  0|   0|   1|   0| -2.730341695467989|11.496348651324867|3.5980943797891185|-4.875283862177274|14.042833228981776|\n",
      "|       471|  0|   1|   0|   1|-1.1012242363556006|10.255015772333854| 3.589597364806948|-4.547209213742605| 8.650926639695456|\n",
      "|       496|  0|   1|   0|   1| -17.10135369945869| 54.39589825365896|3.5900412844154244| -4.54881661950235| 19.95691332133398|\n",
      "|      1238|  0|   0|   0|   0| -4.046307639606464|34.687972375171306|3.5981683352545537|-4.872868892058087|27.108918108049366|\n",
      "+----------+---+----+----+----+-------------------+------------------+------------------+------------------+------------------+\n",
      "only showing top 5 rows\n",
      "\n"
     ]
    }
   ],
   "source": [
    "# Append to the original dataset the q_pressure field calculated from the step before\n",
    "df_q = data.select(features)\n",
    "df_q = df_q.join(q_press_predicted, q_press_predicted.b_id == df_m.breath_ids).select(*df_q.columns, col('prediction').alias('q_pressure'))\n",
    "df_q.show(5)"
   ]
  },
  {
   "cell_type": "code",
   "execution_count": 38,
   "id": "adaptive-cincinnati",
   "metadata": {},
   "outputs": [
    {
     "name": "stdout",
     "output_type": "stream",
     "text": [
      "+----------+---+----+----+----+-------------------+------------------+------------------+------------------+------------------+------------------+\n",
      "|breath_ids|R_5|R_20|C_10|C_20|             m_u_in|            q_u_in|           m_u_out|           q_u_out|        q_pressure|             label|\n",
      "+----------+---+----+----+----+-------------------+------------------+------------------+------------------+------------------+------------------+\n",
      "|       148|  0|   0|   1|   0| -0.627586555937512| 3.279187855644647| 3.583992459539968|-4.387057482814503| 5.777340379352523| 1.712044550044049|\n",
      "|       463|  0|   0|   1|   0| -2.730341695467989|11.496348651324867|3.5980943797891185|-4.875283862177274|14.042833228981776| 5.452311677836793|\n",
      "|       471|  0|   1|   0|   1|-1.1012242363556006|10.255015772333854| 3.589597364806948|-4.547209213742605| 8.650926639695456|2.9888939958281715|\n",
      "|       496|  0|   1|   0|   1| -17.10135369945869| 54.39589825365896|3.5900412844154244| -4.54881661950235| 19.95691332133398| 2.781362935991756|\n",
      "|      1238|  0|   0|   0|   0| -4.046307639606464|34.687972375171306|3.5981683352545537|-4.872868892058087|27.108918108049366|  1.09470120183871|\n",
      "+----------+---+----+----+----+-------------------+------------------+------------------+------------------+------------------+------------------+\n",
      "only showing top 5 rows\n",
      "\n"
     ]
    }
   ],
   "source": [
    "q_features = ['breath_ids', 'R_5', 'R_20', 'C_10', 'C_20', 'm_u_in', 'q_u_in', 'm_u_out', 'q_u_out', 'q_pressure']\n",
    "m = data.select('m_pressure', col('breath_ids').alias('b_id'))\n",
    "lr_data = df_q.join(m, m.b_id == df_q.breath_ids).select(*df_q.columns, col('m_pressure').alias('label'))\n",
    "lr_data.show(5)"
   ]
  },
  {
   "cell_type": "code",
   "execution_count": 39,
   "id": "suspended-advice",
   "metadata": {},
   "outputs": [],
   "source": [
    "train, test = lr_data.randomSplit([0.8, 0.2], seed=69)"
   ]
  },
  {
   "cell_type": "code",
   "execution_count": 40,
   "id": "sitting-africa",
   "metadata": {},
   "outputs": [],
   "source": [
    "#prepare the data and the pipeline\n",
    "for_prediction = q_features.copy()\n",
    "for_prediction.remove('breath_ids')\n",
    "vectorAssembler = VectorAssembler(inputCols=for_prediction, outputCol=\"unscaled_features\")\n",
    "standardScaler = StandardScaler(inputCol=\"unscaled_features\", outputCol=\"features\")\n",
    "stages = [vectorAssembler, standardScaler, tvs]\n",
    "pipeline = Pipeline(stages=stages)"
   ]
  },
  {
   "cell_type": "markdown",
   "id": "arctic-howard",
   "metadata": {},
   "source": [
    "## Regression for m_pressure"
   ]
  },
  {
   "cell_type": "code",
   "execution_count": 41,
   "id": "adverse-notice",
   "metadata": {},
   "outputs": [],
   "source": [
    "model = pipeline.fit(train)\n",
    "prediction = model.transform(test)"
   ]
  },
  {
   "cell_type": "code",
   "execution_count": 42,
   "id": "ecological-fight",
   "metadata": {},
   "outputs": [
    {
     "name": "stdout",
     "output_type": "stream",
     "text": [
      "['R_5', 'R_20', 'C_10', 'C_20', 'm_u_in', 'q_u_in', 'm_u_out', 'q_u_out', 'q_pressure']\n"
     ]
    }
   ],
   "source": [
    "print(for_prediction)"
   ]
  },
  {
   "cell_type": "code",
   "execution_count": 43,
   "id": "hairy-robinson",
   "metadata": {},
   "outputs": [
    {
     "name": "stdout",
     "output_type": "stream",
     "text": [
      "RMSE: 1.230\n",
      "MSE: 1.512\n",
      "MAE: 0.833\n",
      "r2: 0.777\n"
     ]
    }
   ],
   "source": [
    "performance_metrics(prediction)"
   ]
  },
  {
   "cell_type": "code",
   "execution_count": 44,
   "id": "gross-hours",
   "metadata": {},
   "outputs": [
    {
     "name": "stdout",
     "output_type": "stream",
     "text": [
      "+----------+---+----+----+----+-------------------+-----------------+------------------+------------------+------------------+-------------------+--------------------+--------------------+------------------+\n",
      "|breath_ids|R_5|R_20|C_10|C_20|             m_u_in|           q_u_in|           m_u_out|           q_u_out|        q_pressure|              label|   unscaled_features|            features|        prediction|\n",
      "+----------+---+----+----+----+-------------------+-----------------+------------------+------------------+------------------+-------------------+--------------------+--------------------+------------------+\n",
      "|       133|  1|   0|   1|   0|  -19.6014207492924|46.98668700460304| 3.594566274579692| -4.71231980483322|17.098833121645907|  4.694679995581807|[1.0,0.0,1.0,0.0,...|[2.13104243257100...| 5.906446016617122|\n",
      "|       177|  1|   0|   0|   0| -23.32346938584597|71.05051858227964|3.5843312532246725|-4.381444835800677|11.529143278975685| 3.0100866207852106|[1.0,0.0,0.0,0.0,...|[2.13104243257100...|3.0738711916505626|\n",
      "|       193|  0|   1|   1|   0|-14.612867948589033|35.97410373393805| 3.589525025249348|-4.550246009590356|19.225242140889687|  2.762803350501179|[0.0,1.0,1.0,0.0,...|[0.0,2.2417186012...| 2.999767150284782|\n",
      "|       211|  0|   0|   1|   0| -2.725358163835806|  6.6892785793426| 3.598061106057478|-4.876249319155856|12.381263191577677|-0.0172024247209853|[0.0,0.0,1.0,0.0,...|[0.0,0.0,2.067318...|0.9363087462051993|\n",
      "|       212|  1|   0|   1|   0|-22.310545571894497|52.16721254743314|3.5897878993086203|-4.549037115187877|  21.8220789597813| 3.5696631953669677|[1.0,0.0,1.0,0.0,...|[2.13104243257100...| 5.711095427673522|\n",
      "+----------+---+----+----+----+-------------------+-----------------+------------------+------------------+------------------+-------------------+--------------------+--------------------+------------------+\n",
      "only showing top 5 rows\n",
      "\n"
     ]
    }
   ],
   "source": [
    "prediction.show(5)"
   ]
  },
  {
   "cell_type": "markdown",
   "id": "original-estimate",
   "metadata": {},
   "source": [
    "## Output from the second regression technique"
   ]
  },
  {
   "cell_type": "code",
   "execution_count": 45,
   "id": "former-catalyst",
   "metadata": {},
   "outputs": [],
   "source": [
    "m_pressure = model.transform(lr_data)\n",
    "m_press_predicted = m_pressure.select([col(\"breath_ids\").alias(\"b_id\"), 'prediction'])"
   ]
  },
  {
   "cell_type": "code",
   "execution_count": 46,
   "id": "plastic-grade",
   "metadata": {},
   "outputs": [
    {
     "name": "stdout",
     "output_type": "stream",
     "text": [
      "+----------+---+----+----+----+-------------------+------------------+------------------+------------------+------------------+------------------+\n",
      "|breath_ids|R_5|R_20|C_10|C_20|             m_u_in|            q_u_in|           m_u_out|           q_u_out|        q_pressure|        m_pressure|\n",
      "+----------+---+----+----+----+-------------------+------------------+------------------+------------------+------------------+------------------+\n",
      "|       148|  0|   0|   1|   0| -0.627586555937512| 3.279187855644647| 3.583992459539968|-4.387057482814503| 4.787830588906654|1.2455432212222992|\n",
      "|       463|  0|   0|   1|   0| -2.730341695467989|11.496348651324867|3.5980943797891185|-4.875283862177274|14.032851614737082|2.9225295045356945|\n",
      "|       471|  0|   1|   0|   1|-1.1012242363556006|10.255015772333854| 3.589597364806948|-4.547209213742605|  7.08478856513968|2.7090587869807883|\n",
      "|       496|  0|   1|   0|   1| -17.10135369945869| 54.39589825365896|3.5900412844154244| -4.54881661950235| 18.63630522318597|3.9002336128576967|\n",
      "|      1238|  0|   0|   0|   0| -4.046307639606464|34.687972375171306|3.5981683352545537|-4.872868892058087| 27.02842709123733|1.8767597268165155|\n",
      "+----------+---+----+----+----+-------------------+------------------+------------------+------------------+------------------+------------------+\n",
      "only showing top 5 rows\n",
      "\n"
     ]
    }
   ],
   "source": [
    "df_regressed_3 = data.select(q_features)\n",
    "df_regressed_3 = df_regressed_3.join(m_press_predicted, m_press_predicted.b_id == df_regressed_3.breath_ids).select(*df_regressed_3.columns, col('prediction').alias('m_pressure'))\n",
    "df_regressed_3.show(5)"
   ]
  }
 ],
 "metadata": {
  "kernelspec": {
   "display_name": "Python 3",
   "language": "python",
   "name": "python3"
  },
  "language_info": {
   "codemirror_mode": {
    "name": "ipython",
    "version": 3
   },
   "file_extension": ".py",
   "mimetype": "text/x-python",
   "name": "python",
   "nbconvert_exporter": "python",
   "pygments_lexer": "ipython3",
   "version": "3.8.10"
  }
 },
 "nbformat": 4,
 "nbformat_minor": 5
}

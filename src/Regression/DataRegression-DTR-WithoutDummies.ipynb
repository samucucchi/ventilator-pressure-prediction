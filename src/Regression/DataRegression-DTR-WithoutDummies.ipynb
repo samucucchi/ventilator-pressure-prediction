{
 "cells": [
  {
   "cell_type": "code",
   "execution_count": 1,
   "id": "marked-apparatus",
   "metadata": {},
   "outputs": [],
   "source": [
    "import pyspark as spark\n",
    "from pyspark import SparkContext\n",
    "# initialize a new Spark Context to use for the execution of the script\n",
    "sc = SparkContext(appName=\"MY-APP-NAME\", master=\"local[*]\")\n",
    "# prevent useless logging messages\n",
    "sc.setLogLevel(\"ERROR\")"
   ]
  },
  {
   "cell_type": "code",
   "execution_count": 2,
   "id": "stopped-equipment",
   "metadata": {},
   "outputs": [],
   "source": [
    "from pyspark.sql import SparkSession\n",
    "from pyspark.sql.types import StructType, StructField, FloatType, IntegerType\n",
    "from pyspark.ml import Pipeline\n",
    "from pyspark.ml.regression import DecisionTreeRegressor, LinearRegression\n",
    "from pyspark.ml.classification import LogisticRegression\n",
    "from pyspark.ml.feature import VectorAssembler, StandardScaler\n",
    "from pyspark.ml.evaluation import RegressionEvaluator, MulticlassClassificationEvaluator, BinaryClassificationEvaluator\n",
    "from pyspark.ml.classification import FMClassifier\n",
    "import numpy as np\n",
    "from pyspark.mllib.clustering import KMeans\n",
    "import matplotlib.pyplot as plt\n",
    "from pyspark.sql.functions import col\n",
    "from pyspark.ml.tuning import ParamGridBuilder, TrainValidationSplit\n",
    "import matplotlib.pyplot as plt\n",
    "\n",
    "spark = SparkSession.builder \\\n",
    "    .master(\"local\") \\\n",
    "    .appName(\"appName\") \\\n",
    "    .getOrCreate()"
   ]
  },
  {
   "cell_type": "code",
   "execution_count": 3,
   "id": "specific-toronto",
   "metadata": {},
   "outputs": [],
   "source": [
    "def performance_metrics(predicted_values):\n",
    "    eval = RegressionEvaluator(labelCol=\"label\", predictionCol=\"prediction\", metricName=\"rmse\")\n",
    "\n",
    "    #Root Mean Square Error\n",
    "    rmse = eval.evaluate(predicted_values)\n",
    "    print(\"RMSE: %.3f\" % rmse)\n",
    "\n",
    "    # Mean Square Error\n",
    "    mse = eval.evaluate(predicted_values, {eval.metricName: \"mse\"})\n",
    "    print(\"MSE: %.3f\" % mse)\n",
    "\n",
    "    # Mean Absolute Error\n",
    "    mae = eval.evaluate(predicted_values, {eval.metricName: \"mae\"})\n",
    "    print(\"MAE: %.3f\" % mae)\n",
    "\n",
    "    # r2 - coefficient of determination\n",
    "    r2 = eval.evaluate(predicted_values, {eval.metricName: \"r2\"})\n",
    "    print(\"r2: %.3f\" %r2)"
   ]
  },
  {
   "cell_type": "code",
   "execution_count": 4,
   "id": "simplified-preview",
   "metadata": {},
   "outputs": [],
   "source": [
    "rf = DecisionTreeRegressor(seed = 69)\n",
    "\n",
    "paramGrid = ParamGridBuilder()\\\n",
    ".addGrid(rf.maxBins, list(np.arange(2, 50, 2)))\\\n",
    ".addGrid(rf.maxDepth, list(np.arange(2, 28, 2)))\\\n",
    ".build()\n",
    "\n",
    "tvs = TrainValidationSplit(estimator=rf,\n",
    "                           estimatorParamMaps=paramGrid,\n",
    "                           evaluator=RegressionEvaluator(labelCol=\"label\", predictionCol=\"prediction\", metricName=\"r2\"), \n",
    "                           trainRatio=0.8)"
   ]
  },
  {
   "cell_type": "code",
   "execution_count": 5,
   "id": "lucky-scope",
   "metadata": {},
   "outputs": [
    {
     "name": "stdout",
     "output_type": "stream",
     "text": [
      "+----------+---+---+-------------------+------------------+------------------+------------------+------------------+------------------+\n",
      "|breath_ids|  R|  C|             m_u_in|            q_u_in|           m_u_out|           q_u_out|        m_pressure|        q_pressure|\n",
      "+----------+---+---+-------------------+------------------+------------------+------------------+------------------+------------------+\n",
      "|       148| 50| 10| -0.627586555937512| 3.279187855644647| 3.583992459539968|-4.387057482814503| 1.712044550044049| 4.787830588906654|\n",
      "|       463| 50| 10| -2.730341695467989|11.496348651324867|3.5980943797891185|-4.875283862177274| 5.452311677836793|14.032851614737082|\n",
      "|       471| 20| 20|-1.1012242363556006|10.255015772333854| 3.589597364806948|-4.547209213742605|2.9888939958281715|  7.08478856513968|\n",
      "|       496| 20| 20| -17.10135369945869| 54.39589825365896|3.5900412844154244| -4.54881661950235| 2.781362935991756| 18.63630522318597|\n",
      "|      1238| 50| 50| -4.046307639606464|34.687972375171306|3.5981683352545537|-4.872868892058087|  1.09470120183871| 27.02842709123733|\n",
      "+----------+---+---+-------------------+------------------+------------------+------------------+------------------+------------------+\n",
      "only showing top 5 rows\n",
      "\n"
     ]
    }
   ],
   "source": [
    "data = spark.read.options(header='true', inferschema='true', delimiter=',').csv(\"data/df.csv\")\n",
    "data.show(5)"
   ]
  },
  {
   "cell_type": "markdown",
   "id": "changing-scott",
   "metadata": {},
   "source": [
    "# Regression #1 \n",
    "## Regress m and q parameters for the pressure attribute indepentently"
   ]
  },
  {
   "cell_type": "markdown",
   "id": "concerned-height",
   "metadata": {},
   "source": [
    "## Regression m_pressure"
   ]
  },
  {
   "cell_type": "code",
   "execution_count": 6,
   "id": "velvet-thinking",
   "metadata": {},
   "outputs": [],
   "source": [
    "features = ['breath_ids', 'R', 'C', 'm_u_in', 'q_u_in', 'm_u_out', 'q_u_out']\n",
    "lr_data = data.select(col('m_pressure').alias(\"label\"), *features)"
   ]
  },
  {
   "cell_type": "code",
   "execution_count": 7,
   "id": "chicken-death",
   "metadata": {},
   "outputs": [],
   "source": [
    "train, test = lr_data.randomSplit([0.8, 0.2], seed=69)"
   ]
  },
  {
   "cell_type": "code",
   "execution_count": 8,
   "id": "standing-oasis",
   "metadata": {},
   "outputs": [
    {
     "name": "stdout",
     "output_type": "stream",
     "text": [
      "+------------------+----------+---+---+-------------------+------------------+------------------+------------------+\n",
      "|             label|breath_ids|  R|  C|             m_u_in|            q_u_in|           m_u_out|           q_u_out|\n",
      "+------------------+----------+---+---+-------------------+------------------+------------------+------------------+\n",
      "|-7.866856074833947|     88590| 50| 20| -25.41676240979036| 65.80159905394707| 3.594318209183017|-4.709952037521332|\n",
      "|-7.663688146587497|    116649| 50| 20|-21.639086214137617| 54.87565125780993| 3.594773597953297|-4.709796481642885|\n",
      "|-7.554157606521539|     20210| 50| 20| -21.45036564244344|53.970380395461575|  3.59429508158818|-4.713761437371403|\n",
      "|-7.507951297643809|    124292| 50| 20|-21.908552023117497| 55.37320489748355| 3.594386690014932|-4.714122611281731|\n",
      "|-7.476816741717444|      9323| 50| 20| -21.41138677291981| 53.63256385162418|3.5943172325696486|-4.712043390372973|\n",
      "+------------------+----------+---+---+-------------------+------------------+------------------+------------------+\n",
      "only showing top 5 rows\n",
      "\n"
     ]
    }
   ],
   "source": [
    "train.show(5)"
   ]
  },
  {
   "cell_type": "code",
   "execution_count": 9,
   "id": "equal-england",
   "metadata": {},
   "outputs": [],
   "source": [
    "#prepare the data and the pipeline\n",
    "for_prediction = features.copy()\n",
    "for_prediction.remove('breath_ids')\n",
    "vectorAssembler = VectorAssembler(inputCols=for_prediction, outputCol=\"unscaled_features\")\n",
    "standardScaler = StandardScaler(inputCol=\"unscaled_features\", outputCol=\"features\")\n",
    "stages = [vectorAssembler, standardScaler, tvs]\n",
    "pipeline = Pipeline(stages=stages)"
   ]
  },
  {
   "cell_type": "markdown",
   "id": "silver-pillow",
   "metadata": {},
   "source": [
    "### Models performances for m_pressure"
   ]
  },
  {
   "cell_type": "code",
   "execution_count": 10,
   "id": "premier-legislature",
   "metadata": {},
   "outputs": [],
   "source": [
    "model = pipeline.fit(train)\n",
    "prediction = model.transform(test)"
   ]
  },
  {
   "cell_type": "code",
   "execution_count": 11,
   "id": "protected-conditioning",
   "metadata": {},
   "outputs": [
    {
     "name": "stdout",
     "output_type": "stream",
     "text": [
      "RMSE: 1.144\n",
      "MSE: 1.308\n",
      "MAE: 0.780\n",
      "r2: 0.816\n"
     ]
    }
   ],
   "source": [
    "performance_metrics(prediction)"
   ]
  },
  {
   "cell_type": "code",
   "execution_count": 12,
   "id": "spanish-alcohol",
   "metadata": {},
   "outputs": [
    {
     "name": "stdout",
     "output_type": "stream",
     "text": [
      "Best Param (MaxBins):  32\n",
      "Best Param (MaxDepth):  5\n"
     ]
    }
   ],
   "source": [
    "print('Best Param (MaxBins): ',rf.getMaxBins())\n",
    "print('Best Param (MaxDepth): ',rf.getMaxDepth())"
   ]
  },
  {
   "cell_type": "markdown",
   "id": "english-anchor",
   "metadata": {},
   "source": [
    "### Get predicted m to the original dataset"
   ]
  },
  {
   "cell_type": "code",
   "execution_count": 13,
   "id": "cross-cosmetic",
   "metadata": {},
   "outputs": [],
   "source": [
    "m_pressure = model.transform(lr_data)\n",
    "m_press_predicted = m_pressure.select([col(\"breath_ids\").alias(\"b_id\"), 'prediction'])"
   ]
  },
  {
   "cell_type": "markdown",
   "id": "scenic-bradley",
   "metadata": {},
   "source": [
    "## Regression for q_pressure"
   ]
  },
  {
   "cell_type": "code",
   "execution_count": 14,
   "id": "handled-watts",
   "metadata": {},
   "outputs": [],
   "source": [
    "lr_data = data.select(col('q_pressure').alias(\"label\"), *features)"
   ]
  },
  {
   "cell_type": "code",
   "execution_count": 15,
   "id": "indoor-immunology",
   "metadata": {},
   "outputs": [],
   "source": [
    "train, test = lr_data.randomSplit([0.8, 0.2], seed=69)"
   ]
  },
  {
   "cell_type": "code",
   "execution_count": 16,
   "id": "final-belly",
   "metadata": {},
   "outputs": [],
   "source": [
    "#prepare the data and the pipeline\n",
    "vectorAssembler = VectorAssembler(inputCols=for_prediction, outputCol=\"unscaled_features\")\n",
    "standardScaler = StandardScaler(inputCol=\"unscaled_features\", outputCol=\"features\")\n",
    "stages = [vectorAssembler, standardScaler, tvs]\n",
    "pipeline = Pipeline(stages=stages)"
   ]
  },
  {
   "cell_type": "markdown",
   "id": "adjusted-memphis",
   "metadata": {},
   "source": [
    "### Test performances on q_pressure"
   ]
  },
  {
   "cell_type": "code",
   "execution_count": 17,
   "id": "rental-cyprus",
   "metadata": {},
   "outputs": [],
   "source": [
    "model = pipeline.fit(train)\n",
    "prediction = model.transform(test)"
   ]
  },
  {
   "cell_type": "code",
   "execution_count": 18,
   "id": "specified-weather",
   "metadata": {},
   "outputs": [
    {
     "name": "stdout",
     "output_type": "stream",
     "text": [
      "['R', 'C', 'm_u_in', 'q_u_in', 'm_u_out', 'q_u_out']\n"
     ]
    }
   ],
   "source": [
    "print(for_prediction)"
   ]
  },
  {
   "cell_type": "code",
   "execution_count": 19,
   "id": "alone-amsterdam",
   "metadata": {},
   "outputs": [
    {
     "name": "stdout",
     "output_type": "stream",
     "text": [
      "RMSE: 1.340\n",
      "MSE: 1.797\n",
      "MAE: 0.908\n",
      "r2: 0.954\n"
     ]
    }
   ],
   "source": [
    "performance_metrics(prediction)"
   ]
  },
  {
   "cell_type": "code",
   "execution_count": 20,
   "id": "comparable-concrete",
   "metadata": {},
   "outputs": [
    {
     "name": "stdout",
     "output_type": "stream",
     "text": [
      "Best Param (MaxBins):  32\n",
      "Best Param (MaxDepth):  5\n"
     ]
    }
   ],
   "source": [
    "print('Best Param (MaxBins): ',rf.getMaxBins())\n",
    "print('Best Param (MaxDepth): ',rf.getMaxDepth())"
   ]
  },
  {
   "cell_type": "markdown",
   "id": "junior-visit",
   "metadata": {},
   "source": [
    "### Get predicted q to the original dataset "
   ]
  },
  {
   "cell_type": "code",
   "execution_count": 21,
   "id": "metallic-latex",
   "metadata": {},
   "outputs": [],
   "source": [
    "q_pressure = model.transform(lr_data)\n",
    "q_press_predicted = q_pressure.select([col(\"breath_ids\").alias(\"b_id\"), 'prediction'])"
   ]
  },
  {
   "cell_type": "markdown",
   "id": "sunset-vanilla",
   "metadata": {},
   "source": [
    "# Output from the first regression technique"
   ]
  },
  {
   "cell_type": "code",
   "execution_count": 22,
   "id": "treated-hampshire",
   "metadata": {},
   "outputs": [
    {
     "name": "stdout",
     "output_type": "stream",
     "text": [
      "+----------+---+---+-------------------+------------------+------------------+------------------+------------------+------------------+\n",
      "|breath_ids|  R|  C|             m_u_in|            q_u_in|           m_u_out|           q_u_out|        m_pressure|        q_pressure|\n",
      "+----------+---+---+-------------------+------------------+------------------+------------------+------------------+------------------+\n",
      "|       148| 50| 10| -0.627586555937512| 3.279187855644647| 3.583992459539968|-4.387057482814503| 3.215810819051385|  7.85657577102829|\n",
      "|       463| 50| 10| -2.730341695467989|11.496348651324867|3.5980943797891185|-4.875283862177274| 5.485038861247911|15.784057462340838|\n",
      "|       471| 20| 20|-1.1012242363556006|10.255015772333854| 3.589597364806948|-4.547209213742605|2.9408138835315714| 7.889961357068623|\n",
      "|       496| 20| 20| -17.10135369945869| 54.39589825365896|3.5900412844154244| -4.54881661950235| 3.791803684217059|22.404974025738664|\n",
      "|      1238| 50| 50| -4.046307639606464|34.687972375171306|3.5981683352545537|-4.872868892058087|2.0285150589526952|23.306568487951186|\n",
      "+----------+---+---+-------------------+------------------+------------------+------------------+------------------+------------------+\n",
      "only showing top 5 rows\n",
      "\n"
     ]
    }
   ],
   "source": [
    "df_regressed_1 = data.select(features)\n",
    "df_regressed_1 = df_regressed_1.join(m_press_predicted, m_press_predicted.b_id == df_regressed_1.breath_ids).select(*df_regressed_1.columns, col('prediction').alias('m_pressure'))\n",
    "df_regressed_1 = df_regressed_1.join(q_press_predicted, q_press_predicted.b_id == df_regressed_1.breath_ids).select(*df_regressed_1.columns, col('prediction').alias('q_pressure'))\n",
    "df_regressed_1.show(5)"
   ]
  },
  {
   "cell_type": "markdown",
   "id": "emotional-evaluation",
   "metadata": {},
   "source": [
    "# Regression #2\n",
    "### 1. Regress the m parameter for pressure\n",
    "### 2. Include the predicted value of m in the training set when predicting the q"
   ]
  },
  {
   "cell_type": "code",
   "execution_count": 23,
   "id": "nonprofit-christopher",
   "metadata": {},
   "outputs": [
    {
     "name": "stdout",
     "output_type": "stream",
     "text": [
      "+----------+---+---+-------------------+------------------+------------------+------------------+------------------+------------------+\n",
      "|breath_ids|  R|  C|             m_u_in|            q_u_in|           m_u_out|           q_u_out|        m_pressure|        q_pressure|\n",
      "+----------+---+---+-------------------+------------------+------------------+------------------+------------------+------------------+\n",
      "|       148| 50| 10| -0.627586555937512| 3.279187855644647| 3.583992459539968|-4.387057482814503| 1.712044550044049| 4.787830588906654|\n",
      "|       463| 50| 10| -2.730341695467989|11.496348651324867|3.5980943797891185|-4.875283862177274| 5.452311677836793|14.032851614737082|\n",
      "|       471| 20| 20|-1.1012242363556006|10.255015772333854| 3.589597364806948|-4.547209213742605|2.9888939958281715|  7.08478856513968|\n",
      "|       496| 20| 20| -17.10135369945869| 54.39589825365896|3.5900412844154244| -4.54881661950235| 2.781362935991756| 18.63630522318597|\n",
      "|      1238| 50| 50| -4.046307639606464|34.687972375171306|3.5981683352545537|-4.872868892058087|  1.09470120183871| 27.02842709123733|\n",
      "+----------+---+---+-------------------+------------------+------------------+------------------+------------------+------------------+\n",
      "only showing top 5 rows\n",
      "\n"
     ]
    }
   ],
   "source": [
    "data.show(5)"
   ]
  },
  {
   "cell_type": "code",
   "execution_count": 24,
   "id": "mineral-character",
   "metadata": {},
   "outputs": [
    {
     "name": "stdout",
     "output_type": "stream",
     "text": [
      "+----------+---+---+-------------------+------------------+------------------+------------------+------------------+\n",
      "|breath_ids|  R|  C|             m_u_in|            q_u_in|           m_u_out|           q_u_out|        m_pressure|\n",
      "+----------+---+---+-------------------+------------------+------------------+------------------+------------------+\n",
      "|       148| 50| 10| -0.627586555937512| 3.279187855644647| 3.583992459539968|-4.387057482814503| 3.215810819051385|\n",
      "|       463| 50| 10| -2.730341695467989|11.496348651324867|3.5980943797891185|-4.875283862177274| 5.485038861247911|\n",
      "|       471| 20| 20|-1.1012242363556006|10.255015772333854| 3.589597364806948|-4.547209213742605|2.9408138835315714|\n",
      "|       496| 20| 20| -17.10135369945869| 54.39589825365896|3.5900412844154244| -4.54881661950235| 3.791803684217059|\n",
      "|      1238| 50| 50| -4.046307639606464|34.687972375171306|3.5981683352545537|-4.872868892058087|2.0285150589526952|\n",
      "+----------+---+---+-------------------+------------------+------------------+------------------+------------------+\n",
      "only showing top 5 rows\n",
      "\n"
     ]
    }
   ],
   "source": [
    "# Append to the original dataset the m_pressure field calculated from the step before\n",
    "df_m = data.select(features)\n",
    "df_m = data.join(m_press_predicted, m_press_predicted.b_id == df_m.breath_ids).select(*df_m.columns, col('prediction').alias('m_pressure'))\n",
    "df_m.show(5)"
   ]
  },
  {
   "cell_type": "code",
   "execution_count": 25,
   "id": "effective-officer",
   "metadata": {},
   "outputs": [
    {
     "name": "stdout",
     "output_type": "stream",
     "text": [
      "+----------+---+---+-------------------+------------------+------------------+------------------+------------------+------------------+\n",
      "|breath_ids|  R|  C|             m_u_in|            q_u_in|           m_u_out|           q_u_out|        m_pressure|             label|\n",
      "+----------+---+---+-------------------+------------------+------------------+------------------+------------------+------------------+\n",
      "|       148| 50| 10| -0.627586555937512| 3.279187855644647| 3.583992459539968|-4.387057482814503| 3.215810819051385| 4.787830588906654|\n",
      "|       463| 50| 10| -2.730341695467989|11.496348651324867|3.5980943797891185|-4.875283862177274| 5.485038861247911|14.032851614737082|\n",
      "|       471| 20| 20|-1.1012242363556006|10.255015772333854| 3.589597364806948|-4.547209213742605|2.9408138835315714|  7.08478856513968|\n",
      "|       496| 20| 20| -17.10135369945869| 54.39589825365896|3.5900412844154244| -4.54881661950235| 3.791803684217059| 18.63630522318597|\n",
      "|      1238| 50| 50| -4.046307639606464|34.687972375171306|3.5981683352545537|-4.872868892058087|2.0285150589526952| 27.02842709123733|\n",
      "+----------+---+---+-------------------+------------------+------------------+------------------+------------------+------------------+\n",
      "only showing top 5 rows\n",
      "\n"
     ]
    }
   ],
   "source": [
    "m_features = ['breath_ids', 'R', 'C', 'm_u_in', 'q_u_in', 'm_u_out', 'q_u_out', 'm_pressure']\n",
    "q = data.select('q_pressure', col('breath_ids').alias('b_id'))\n",
    "lr_data = df_m.join(q, q.b_id == df_m.breath_ids).select(*df_m.columns, col('q_pressure').alias(\"label\"))\n",
    "lr_data.show(5)"
   ]
  },
  {
   "cell_type": "code",
   "execution_count": 26,
   "id": "ecological-circus",
   "metadata": {},
   "outputs": [],
   "source": [
    "train, test = lr_data.randomSplit([0.8, 0.2], seed=69)"
   ]
  },
  {
   "cell_type": "code",
   "execution_count": 27,
   "id": "compliant-waters",
   "metadata": {},
   "outputs": [],
   "source": [
    "#prepare the data and the pipeline\n",
    "for_prediction = m_features.copy()\n",
    "for_prediction.remove('breath_ids')\n",
    "vectorAssembler = VectorAssembler(inputCols=for_prediction, outputCol=\"unscaled_features\")\n",
    "standardScaler = StandardScaler(inputCol=\"unscaled_features\", outputCol=\"features\")\n",
    "stages = [vectorAssembler, standardScaler, tvs]\n",
    "pipeline = Pipeline(stages=stages)"
   ]
  },
  {
   "cell_type": "markdown",
   "id": "present-helicopter",
   "metadata": {},
   "source": [
    "## Regression for q_pressure"
   ]
  },
  {
   "cell_type": "code",
   "execution_count": 28,
   "id": "chemical-catholic",
   "metadata": {},
   "outputs": [],
   "source": [
    "model = pipeline.fit(train)\n",
    "prediction = model.transform(test)"
   ]
  },
  {
   "cell_type": "code",
   "execution_count": 29,
   "id": "blocked-keyboard",
   "metadata": {},
   "outputs": [
    {
     "name": "stdout",
     "output_type": "stream",
     "text": [
      "RMSE: 1.406\n",
      "MSE: 1.976\n",
      "MAE: 0.917\n",
      "r2: 0.949\n"
     ]
    }
   ],
   "source": [
    "performance_metrics(prediction)"
   ]
  },
  {
   "cell_type": "code",
   "execution_count": 30,
   "id": "frozen-assault",
   "metadata": {},
   "outputs": [
    {
     "name": "stdout",
     "output_type": "stream",
     "text": [
      "+----------+---+---+-------------------+-----------------+------------------+------------------+--------------------+------------------+--------------------+--------------------+------------------+\n",
      "|breath_ids|  R|  C|             m_u_in|           q_u_in|           m_u_out|           q_u_out|          m_pressure|             label|   unscaled_features|            features|        prediction|\n",
      "+----------+---+---+-------------------+-----------------+------------------+------------------+--------------------+------------------+--------------------+--------------------+------------------+\n",
      "|       133|  5| 10|  -19.6014207492924|46.98668700460304| 3.594566274579692| -4.71231980483322|   5.038300569949913|18.158814395307186|[5.0,10.0,-19.601...|[0.25558208403815...|17.067438719442084|\n",
      "|       177|  5| 50| -23.32346938584597|71.05051858227964|3.5843312532246725|-4.381444835800677|   3.044746695101259|11.163875805026365|[5.0,50.0,-23.323...|[0.25558208403815...|11.073593311822473|\n",
      "|       193| 20| 10|-14.612867948589033|35.97410373393805| 3.589525025249348|-4.550246009590356|  3.6729989653181585| 18.76886409815613|[20.0,10.0,-14.61...|[1.02232833615263...| 18.09415506651612|\n",
      "|       211| 50| 10| -2.725358163835806|  6.6892785793426| 3.598061106057478|-4.876249319155856|0.002519070039107...|10.182922176416907|[50.0,10.0,-2.725...|[2.55582084038159...|10.478982972619551|\n",
      "|       212|  5| 10|-22.310545571894497|52.16721254743314|3.5897878993086203|-4.549037115187877|   5.333269024751187| 21.99692333040409|[5.0,10.0,-22.310...|[0.25558208403815...|21.465522537335584|\n",
      "+----------+---+---+-------------------+-----------------+------------------+------------------+--------------------+------------------+--------------------+--------------------+------------------+\n",
      "only showing top 5 rows\n",
      "\n"
     ]
    }
   ],
   "source": [
    "prediction.show(5)"
   ]
  },
  {
   "cell_type": "markdown",
   "id": "monetary-forest",
   "metadata": {},
   "source": [
    "## Output from the second regression technique"
   ]
  },
  {
   "cell_type": "code",
   "execution_count": 31,
   "id": "armed-paris",
   "metadata": {},
   "outputs": [
    {
     "name": "stdout",
     "output_type": "stream",
     "text": [
      "+------------------+----------+---+---+-------------------+------------------+------------------+------------------+--------------------+--------------------+------------------+\n",
      "|             label|breath_ids|  R|  C|             m_u_in|            q_u_in|           m_u_out|           q_u_out|   unscaled_features|            features|        prediction|\n",
      "+------------------+----------+---+---+-------------------+------------------+------------------+------------------+--------------------+--------------------+------------------+\n",
      "| 4.787830588906654|       148| 50| 10| -0.627586555937512| 3.279187855644647| 3.583992459539968|-4.387057482814503|[50.0,10.0,-0.627...|[2.55557426626199...|  7.85657577102829|\n",
      "|14.032851614737082|       463| 50| 10| -2.730341695467989|11.496348651324867|3.5980943797891185|-4.875283862177274|[50.0,10.0,-2.730...|[2.55557426626199...|15.784057462340838|\n",
      "|  7.08478856513968|       471| 20| 20|-1.1012242363556006|10.255015772333854| 3.589597364806948|-4.547209213742605|[20.0,20.0,-1.101...|[1.02222970650479...| 7.889961357068623|\n",
      "| 18.63630522318597|       496| 20| 20| -17.10135369945869| 54.39589825365896|3.5900412844154244| -4.54881661950235|[20.0,20.0,-17.10...|[1.02222970650479...|22.404974025738664|\n",
      "| 27.02842709123733|      1238| 50| 50| -4.046307639606464|34.687972375171306|3.5981683352545537|-4.872868892058087|[50.0,50.0,-4.046...|[2.55557426626199...|23.306568487951186|\n",
      "+------------------+----------+---+---+-------------------+------------------+------------------+------------------+--------------------+--------------------+------------------+\n",
      "only showing top 5 rows\n",
      "\n"
     ]
    }
   ],
   "source": [
    "q_pressure.show(5)"
   ]
  },
  {
   "cell_type": "code",
   "execution_count": 32,
   "id": "wrong-screening",
   "metadata": {},
   "outputs": [],
   "source": [
    "q_pressure = model.transform(lr_data)\n",
    "q_press_predicted = q_pressure.select([col(\"breath_ids\").alias(\"b_id\"), 'prediction'])"
   ]
  },
  {
   "cell_type": "code",
   "execution_count": 33,
   "id": "comparative-hormone",
   "metadata": {},
   "outputs": [
    {
     "name": "stdout",
     "output_type": "stream",
     "text": [
      "+----------+---+---+-------------------+------------------+------------------+------------------+------------------+-----------------+\n",
      "|breath_ids|  R|  C|             m_u_in|            q_u_in|           m_u_out|           q_u_out|        m_pressure|       q_pressure|\n",
      "+----------+---+---+-------------------+------------------+------------------+------------------+------------------+-----------------+\n",
      "|       148| 50| 10| -0.627586555937512| 3.279187855644647| 3.583992459539968|-4.387057482814503| 1.712044550044049|4.518401548024195|\n",
      "|       463| 50| 10| -2.730341695467989|11.496348651324867|3.5980943797891185|-4.875283862177274| 5.452311677836793|16.73096260832713|\n",
      "|       471| 20| 20|-1.1012242363556006|10.255015772333854| 3.589597364806948|-4.547209213742605|2.9888939958281715|7.584112548758221|\n",
      "|       496| 20| 20| -17.10135369945869| 54.39589825365896|3.5900412844154244| -4.54881661950235| 2.781362935991756|18.64874221118432|\n",
      "|      1238| 50| 50| -4.046307639606464|34.687972375171306|3.5981683352545537|-4.872868892058087|  1.09470120183871|25.16749778959425|\n",
      "+----------+---+---+-------------------+------------------+------------------+------------------+------------------+-----------------+\n",
      "only showing top 5 rows\n",
      "\n"
     ]
    }
   ],
   "source": [
    "df_regressed_2 = data.select(m_features)\n",
    "df_regressed_2 = df_regressed_2.join(q_press_predicted, q_press_predicted.b_id == df_regressed_2.breath_ids).select(*df_regressed_2.columns, col('prediction').alias('q_pressure'))\n",
    "df_regressed_2.show(5)"
   ]
  },
  {
   "cell_type": "markdown",
   "id": "institutional-woman",
   "metadata": {},
   "source": [
    "# Regression #3 \n",
    "### 1. Regress the q parameter for pressure \n",
    "### 2. Include the predicted value of q in the trianning set when predicting the m"
   ]
  },
  {
   "cell_type": "code",
   "execution_count": 34,
   "id": "systematic-champion",
   "metadata": {},
   "outputs": [
    {
     "name": "stdout",
     "output_type": "stream",
     "text": [
      "+----------+---+---+-------------------+------------------+------------------+------------------+-----------------+\n",
      "|breath_ids|  R|  C|             m_u_in|            q_u_in|           m_u_out|           q_u_out|       q_pressure|\n",
      "+----------+---+---+-------------------+------------------+------------------+------------------+-----------------+\n",
      "|       148| 50| 10| -0.627586555937512| 3.279187855644647| 3.583992459539968|-4.387057482814503|4.518401548024195|\n",
      "|       463| 50| 10| -2.730341695467989|11.496348651324867|3.5980943797891185|-4.875283862177274|16.73096260832713|\n",
      "|       471| 20| 20|-1.1012242363556006|10.255015772333854| 3.589597364806948|-4.547209213742605|7.584112548758221|\n",
      "|       496| 20| 20| -17.10135369945869| 54.39589825365896|3.5900412844154244| -4.54881661950235|18.64874221118432|\n",
      "|      1238| 50| 50| -4.046307639606464|34.687972375171306|3.5981683352545537|-4.872868892058087|25.16749778959425|\n",
      "+----------+---+---+-------------------+------------------+------------------+------------------+-----------------+\n",
      "only showing top 5 rows\n",
      "\n"
     ]
    }
   ],
   "source": [
    "# Append to the original dataset the q_pressure field calculated from the step before\n",
    "df_q = data.select(features)\n",
    "df_q = df_q.join(q_press_predicted, q_press_predicted.b_id == df_m.breath_ids).select(*df_q.columns, col('prediction').alias('q_pressure'))\n",
    "df_q.show(5)"
   ]
  },
  {
   "cell_type": "code",
   "execution_count": 35,
   "id": "adaptive-cincinnati",
   "metadata": {},
   "outputs": [
    {
     "name": "stdout",
     "output_type": "stream",
     "text": [
      "+----------+---+---+-------------------+------------------+------------------+------------------+-----------------+------------------+\n",
      "|breath_ids|  R|  C|             m_u_in|            q_u_in|           m_u_out|           q_u_out|       q_pressure|             label|\n",
      "+----------+---+---+-------------------+------------------+------------------+------------------+-----------------+------------------+\n",
      "|       148| 50| 10| -0.627586555937512| 3.279187855644647| 3.583992459539968|-4.387057482814503|4.518401548024195| 1.712044550044049|\n",
      "|       463| 50| 10| -2.730341695467989|11.496348651324867|3.5980943797891185|-4.875283862177274|16.73096260832713| 5.452311677836793|\n",
      "|       471| 20| 20|-1.1012242363556006|10.255015772333854| 3.589597364806948|-4.547209213742605|7.584112548758221|2.9888939958281715|\n",
      "|       496| 20| 20| -17.10135369945869| 54.39589825365896|3.5900412844154244| -4.54881661950235|18.64874221118432| 2.781362935991756|\n",
      "|      1238| 50| 50| -4.046307639606464|34.687972375171306|3.5981683352545537|-4.872868892058087|25.16749778959425|  1.09470120183871|\n",
      "+----------+---+---+-------------------+------------------+------------------+------------------+-----------------+------------------+\n",
      "only showing top 5 rows\n",
      "\n"
     ]
    }
   ],
   "source": [
    "q_features = ['breath_ids', 'R', 'C', 'm_u_in', 'q_u_in', 'm_u_out', 'q_u_out', 'q_pressure']\n",
    "m = data.select('m_pressure', col('breath_ids').alias('b_id'))\n",
    "lr_data = df_q.join(m, m.b_id == df_q.breath_ids).select(*df_q.columns, col('m_pressure').alias('label'))\n",
    "lr_data.show(5)"
   ]
  },
  {
   "cell_type": "code",
   "execution_count": 36,
   "id": "suspended-advice",
   "metadata": {},
   "outputs": [],
   "source": [
    "train, test = lr_data.randomSplit([0.8, 0.2], seed=69)"
   ]
  },
  {
   "cell_type": "code",
   "execution_count": 37,
   "id": "sitting-africa",
   "metadata": {},
   "outputs": [],
   "source": [
    "#prepare the data and the pipeline\n",
    "for_prediction = q_features.copy()\n",
    "for_prediction.remove('breath_ids')\n",
    "vectorAssembler = VectorAssembler(inputCols=for_prediction, outputCol=\"unscaled_features\")\n",
    "standardScaler = StandardScaler(inputCol=\"unscaled_features\", outputCol=\"features\")\n",
    "stages = [vectorAssembler, standardScaler, tvs]\n",
    "pipeline = Pipeline(stages=stages)"
   ]
  },
  {
   "cell_type": "markdown",
   "id": "arctic-howard",
   "metadata": {},
   "source": [
    "## Regression for m_pressure"
   ]
  },
  {
   "cell_type": "code",
   "execution_count": 38,
   "id": "adverse-notice",
   "metadata": {},
   "outputs": [],
   "source": [
    "model = pipeline.fit(train)\n",
    "prediction = model.transform(test)"
   ]
  },
  {
   "cell_type": "code",
   "execution_count": 39,
   "id": "ecological-fight",
   "metadata": {},
   "outputs": [
    {
     "name": "stdout",
     "output_type": "stream",
     "text": [
      "['R', 'C', 'm_u_in', 'q_u_in', 'm_u_out', 'q_u_out', 'q_pressure']\n"
     ]
    }
   ],
   "source": [
    "print(for_prediction)"
   ]
  },
  {
   "cell_type": "code",
   "execution_count": 40,
   "id": "hairy-robinson",
   "metadata": {},
   "outputs": [
    {
     "name": "stdout",
     "output_type": "stream",
     "text": [
      "RMSE: 1.123\n",
      "MSE: 1.261\n",
      "MAE: 0.759\n",
      "r2: 0.814\n"
     ]
    }
   ],
   "source": [
    "performance_metrics(prediction)"
   ]
  },
  {
   "cell_type": "code",
   "execution_count": 41,
   "id": "gross-hours",
   "metadata": {},
   "outputs": [
    {
     "name": "stdout",
     "output_type": "stream",
     "text": [
      "+----------+---+---+-------------------+-----------------+------------------+------------------+------------------+-------------------+--------------------+--------------------+------------------+\n",
      "|breath_ids|  R|  C|             m_u_in|           q_u_in|           m_u_out|           q_u_out|        q_pressure|              label|   unscaled_features|            features|        prediction|\n",
      "+----------+---+---+-------------------+-----------------+------------------+------------------+------------------+-------------------+--------------------+--------------------+------------------+\n",
      "|       133|  5| 10|  -19.6014207492924|46.98668700460304| 3.594566274579692| -4.71231980483322|17.067438719442084|  4.694679995581807|[5.0,10.0,-19.601...|[0.25558208403815...| 5.814947611896589|\n",
      "|       177|  5| 50| -23.32346938584597|71.05051858227964|3.5843312532246725|-4.381444835800677|11.073593311822473| 3.0100866207852106|[5.0,50.0,-23.323...|[0.25558208403815...|3.0335666522515696|\n",
      "|       193| 20| 10|-14.612867948589033|35.97410373393805| 3.589525025249348|-4.550246009590356| 18.09415506651612|  2.762803350501179|[20.0,10.0,-14.61...|[1.02232833615263...|3.8114549113742817|\n",
      "|       211| 50| 10| -2.725358163835806|  6.6892785793426| 3.598061106057478|-4.876249319155856|10.478982972619551|-0.0172024247209853|[50.0,10.0,-2.725...|[2.55582084038159...|0.0685832748097609|\n",
      "|       212|  5| 10|-22.310545571894497|52.16721254743314|3.5897878993086203|-4.549037115187877|21.465522537335584| 3.5696631953669677|[5.0,10.0,-22.310...|[0.25558208403815...| 5.814947611896589|\n",
      "+----------+---+---+-------------------+-----------------+------------------+------------------+------------------+-------------------+--------------------+--------------------+------------------+\n",
      "only showing top 5 rows\n",
      "\n"
     ]
    }
   ],
   "source": [
    "prediction.show(5)"
   ]
  },
  {
   "cell_type": "markdown",
   "id": "original-estimate",
   "metadata": {},
   "source": [
    "## Output from the second regression technique"
   ]
  },
  {
   "cell_type": "code",
   "execution_count": 42,
   "id": "former-catalyst",
   "metadata": {},
   "outputs": [],
   "source": [
    "m_pressure = model.transform(lr_data)\n",
    "m_press_predicted = m_pressure.select([col(\"breath_ids\").alias(\"b_id\"), 'prediction'])"
   ]
  },
  {
   "cell_type": "code",
   "execution_count": 43,
   "id": "plastic-grade",
   "metadata": {},
   "outputs": [
    {
     "name": "stdout",
     "output_type": "stream",
     "text": [
      "+----------+---+---+-------------------+------------------+------------------+------------------+------------------+------------------+\n",
      "|breath_ids|  R|  C|             m_u_in|            q_u_in|           m_u_out|           q_u_out|        q_pressure|        m_pressure|\n",
      "+----------+---+---+-------------------+------------------+------------------+------------------+------------------+------------------+\n",
      "|       148| 50| 10| -0.627586555937512| 3.279187855644647| 3.583992459539968|-4.387057482814503| 4.787830588906654| 1.712044550044049|\n",
      "|       463| 50| 10| -2.730341695467989|11.496348651324867|3.5980943797891185|-4.875283862177274|14.032851614737082|6.0633168471857415|\n",
      "|       471| 20| 20|-1.1012242363556006|10.255015772333854| 3.589597364806948|-4.547209213742605|  7.08478856513968| 2.957190054457414|\n",
      "|       496| 20| 20| -17.10135369945869| 54.39589825365896|3.5900412844154244| -4.54881661950235| 18.63630522318597| 4.006267324414826|\n",
      "|      1238| 50| 50| -4.046307639606464|34.687972375171306|3.5981683352545537|-4.872868892058087| 27.02842709123733|2.0339399974098655|\n",
      "+----------+---+---+-------------------+------------------+------------------+------------------+------------------+------------------+\n",
      "only showing top 5 rows\n",
      "\n"
     ]
    }
   ],
   "source": [
    "df_regressed_3 = data.select(q_features)\n",
    "df_regressed_3 = df_regressed_3.join(m_press_predicted, m_press_predicted.b_id == df_regressed_3.breath_ids).select(*df_regressed_3.columns, col('prediction').alias('m_pressure'))\n",
    "df_regressed_3.show(5)"
   ]
  }
 ],
 "metadata": {
  "kernelspec": {
   "display_name": "Python 3",
   "language": "python",
   "name": "python3"
  },
  "language_info": {
   "codemirror_mode": {
    "name": "ipython",
    "version": 3
   },
   "file_extension": ".py",
   "mimetype": "text/x-python",
   "name": "python",
   "nbconvert_exporter": "python",
   "pygments_lexer": "ipython3",
   "version": "3.8.10"
  }
 },
 "nbformat": 4,
 "nbformat_minor": 5
}
